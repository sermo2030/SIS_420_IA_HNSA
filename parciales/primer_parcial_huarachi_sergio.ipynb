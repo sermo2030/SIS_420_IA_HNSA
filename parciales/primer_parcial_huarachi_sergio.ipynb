{
  "cells": [
    {
      "cell_type": "code",
      "source": [
        "from google.colab import drive\n",
        "drive.mount('/content/drive')"
      ],
      "metadata": {
        "colab": {
          "base_uri": "https://localhost:8080/"
        },
        "id": "LTZHlkSGNeoO",
        "outputId": "d3163008-a52c-443d-fd25-d5e655f5b23c"
      },
      "execution_count": 193,
      "outputs": [
        {
          "output_type": "stream",
          "name": "stdout",
          "text": [
            "Drive already mounted at /content/drive; to attempt to forcibly remount, call drive.mount(\"/content/drive\", force_remount=True).\n"
          ]
        }
      ]
    },
    {
      "cell_type": "code",
      "execution_count": 194,
      "metadata": {
        "id": "Wz4O8wg-Hp5l"
      },
      "outputs": [],
      "source": [
        "# utilizado para manejos de directorios y rutas\n",
        "import os\n",
        "\n",
        "# Computacion vectorial y cientifica para python\n",
        "import numpy as np\n",
        "\n",
        "# Librerias para graficación (trazado de gráficos)\n",
        "from matplotlib import pyplot\n",
        "from mpl_toolkits.mplot3d import Axes3D  # Necesario para graficar superficies 3D\n",
        "\n",
        "# Modulo de optimización de scipy\n",
        "from scipy import optimize\n",
        "\n",
        "# llama a matplotlib a embeber graficas dentro de los cuadernillos\n",
        "%matplotlib inline"
      ]
    },
    {
      "cell_type": "code",
      "execution_count": 195,
      "metadata": {
        "id": "irCd0ss7Hp5p"
      },
      "outputs": [],
      "source": [
        "import pandas as pd\n",
        "from sklearn.preprocessing import LabelEncoder\n",
        "from datetime import datetime"
      ]
    },
    {
      "cell_type": "code",
      "execution_count": 196,
      "metadata": {
        "id": "yGw7Yz17Hp5q"
      },
      "outputs": [],
      "source": [
        "#Carga de dataset\n",
        "data = pd.read_csv('/content/drive/MyDrive/UMRPSFXCH/2023_2/SIS-420/Datasets/dataR2.csv', delimiter=\",\")#, skiprows=1)\n",
        "\n",
        "# Importar libreria para dividir entrenamiento y prueba\n",
        "from sklearn.model_selection import train_test_split"
      ]
    },
    {
      "cell_type": "code",
      "execution_count": 197,
      "metadata": {
        "colab": {
          "base_uri": "https://localhost:8080/"
        },
        "id": "mXd6HTg1Hp5q",
        "outputId": "12918848-4bfa-4049-a10f-f7b328998102"
      },
      "outputs": [
        {
          "output_type": "stream",
          "name": "stdout",
          "text": [
            "<class 'pandas.core.frame.DataFrame'>\n",
            "RangeIndex: 116 entries, 0 to 115\n",
            "Data columns (total 10 columns):\n",
            " #   Column          Non-Null Count  Dtype  \n",
            "---  ------          --------------  -----  \n",
            " 0   Age             116 non-null    int64  \n",
            " 1   BMI             116 non-null    float64\n",
            " 2   Glucose         116 non-null    int64  \n",
            " 3   Insulin         116 non-null    float64\n",
            " 4   HOMA            116 non-null    float64\n",
            " 5   Leptin          116 non-null    float64\n",
            " 6   Adiponectin     116 non-null    float64\n",
            " 7   Resistin        116 non-null    float64\n",
            " 8   MCP.1           116 non-null    float64\n",
            " 9   Classification  116 non-null    int64  \n",
            "dtypes: float64(7), int64(3)\n",
            "memory usage: 9.2 KB\n"
          ]
        }
      ],
      "source": [
        "data.info()"
      ]
    },
    {
      "cell_type": "code",
      "execution_count": 198,
      "metadata": {
        "id": "qr0YCqBXHp5s"
      },
      "outputs": [],
      "source": [
        "#no se necesita llenar datos vacios\n",
        "\n",
        "# #llenar datos vacios con le promedio\n",
        "# columnas_especificas = ['Arrival Delay in Minutes']\n",
        "# media_columnas = data[columnas_especificas].mean()\n",
        "# data[columnas_especificas] = data[columnas_especificas].fillna(media_columnas)"
      ]
    },
    {
      "cell_type": "code",
      "execution_count": 199,
      "metadata": {
        "id": "LnhCssy7Hp5t"
      },
      "outputs": [],
      "source": [
        "#no se necesita cambiar variables categoricas\n",
        "\n",
        "# #variables categoricas\n",
        "# columnas_categoricas = data.select_dtypes(include=['object']).columns\n",
        "# #variables fechas\n",
        "# columnas_fechas = data.select_dtypes(include=['datetime64']).columns"
      ]
    },
    {
      "cell_type": "code",
      "execution_count": 200,
      "metadata": {
        "id": "ulEmtNJxHp5t"
      },
      "outputs": [],
      "source": [
        "#no se necesita\n",
        "\n",
        "# #Procesamiento de frases o palabras\n",
        "# for columna in columnas_categoricas:\n",
        "#   le = LabelEncoder()\n",
        "#   data[columna] = le.fit_transform(data[columna])"
      ]
    },
    {
      "cell_type": "code",
      "execution_count": 201,
      "metadata": {
        "id": "-roLbH3oHp5u"
      },
      "outputs": [],
      "source": [
        "#data.info()"
      ]
    },
    {
      "cell_type": "code",
      "execution_count": 202,
      "metadata": {
        "id": "CqcOp0x2Hp5u"
      },
      "outputs": [],
      "source": [
        "#no se necesita\n",
        "\n",
        "# #Elimino columna irrelevante\n",
        "# data = data.drop(columns=['id'])"
      ]
    },
    {
      "cell_type": "code",
      "execution_count": 203,
      "metadata": {
        "id": "eZyooWHSHp5v"
      },
      "outputs": [],
      "source": [
        "#data.info()"
      ]
    },
    {
      "cell_type": "code",
      "execution_count": 204,
      "metadata": {
        "id": "zClpPc9GHp5w"
      },
      "outputs": [],
      "source": [
        "# Division de dataset en entrenamiento y prueba\n",
        "# test_size es el porcentaje que se dividira el dataset en este caso 10%\n",
        "# random_state=42 es un estandar para que se repita los valores siempre que se utilice\n",
        "train_data, test_data = train_test_split(data, test_size=0.1, random_state=42)"
      ]
    },
    {
      "cell_type": "code",
      "execution_count": 205,
      "metadata": {
        "colab": {
          "base_uri": "https://localhost:8080/"
        },
        "id": "mmiThj6pHp5x",
        "outputId": "771faef4-2d3a-4d04-cead-e1729f046ef3"
      },
      "outputs": [
        {
          "output_type": "stream",
          "name": "stdout",
          "text": [
            "<class 'pandas.core.frame.DataFrame'>\n",
            "Int64Index: 104 entries, 94 to 102\n",
            "Data columns (total 10 columns):\n",
            " #   Column          Non-Null Count  Dtype  \n",
            "---  ------          --------------  -----  \n",
            " 0   Age             104 non-null    int64  \n",
            " 1   BMI             104 non-null    float64\n",
            " 2   Glucose         104 non-null    int64  \n",
            " 3   Insulin         104 non-null    float64\n",
            " 4   HOMA            104 non-null    float64\n",
            " 5   Leptin          104 non-null    float64\n",
            " 6   Adiponectin     104 non-null    float64\n",
            " 7   Resistin        104 non-null    float64\n",
            " 8   MCP.1           104 non-null    float64\n",
            " 9   Classification  104 non-null    int64  \n",
            "dtypes: float64(7), int64(3)\n",
            "memory usage: 8.9 KB\n",
            "<class 'pandas.core.frame.DataFrame'>\n",
            "Int64Index: 12 entries, 83 to 26\n",
            "Data columns (total 10 columns):\n",
            " #   Column          Non-Null Count  Dtype  \n",
            "---  ------          --------------  -----  \n",
            " 0   Age             12 non-null     int64  \n",
            " 1   BMI             12 non-null     float64\n",
            " 2   Glucose         12 non-null     int64  \n",
            " 3   Insulin         12 non-null     float64\n",
            " 4   HOMA            12 non-null     float64\n",
            " 5   Leptin          12 non-null     float64\n",
            " 6   Adiponectin     12 non-null     float64\n",
            " 7   Resistin        12 non-null     float64\n",
            " 8   MCP.1           12 non-null     float64\n",
            " 9   Classification  12 non-null     int64  \n",
            "dtypes: float64(7), int64(3)\n",
            "memory usage: 1.0 KB\n"
          ]
        }
      ],
      "source": [
        "# informacion de los nuevos datasets\n",
        "train_data.info()\n",
        "test_data.info()\n",
        "\n",
        "#exportar nuevos datasets\n",
        "train_data.to_csv(\"train.csv\", index=False)\n",
        "test_data.to_csv(\"test.csv\", index=False)"
      ]
    },
    {
      "cell_type": "code",
      "execution_count": 206,
      "metadata": {
        "id": "d4Gh96GkHp5x"
      },
      "outputs": [],
      "source": [
        "#Carga de dataset\n",
        "data = pd.read_csv('train.csv', delimiter=',')#, skiprows=1)\n",
        "\n",
        "# Cambia los valores 1 por 0 y los valores 2 por 1 en la columna \"Classification\"\n",
        "data[\"Classification\"] = data[\"Classification\"].replace({1: 0, 2: 1})"
      ]
    },
    {
      "cell_type": "code",
      "execution_count": 207,
      "metadata": {
        "colab": {
          "base_uri": "https://localhost:8080/",
          "height": 206
        },
        "id": "66ZnmvjZHp5x",
        "outputId": "93e840a1-4ebc-489f-fdb8-858dc219d97c"
      },
      "outputs": [
        {
          "output_type": "execute_result",
          "data": {
            "text/plain": [
              "   Age        BMI  Glucose  Insulin      HOMA   Leptin  Adiponectin  Resistin  \\\n",
              "0   60  31.231410      131   30.130  9.736007  37.8430     8.404430  11.50005   \n",
              "1   45  20.829995       74    4.560  0.832352   7.7529     8.237405  28.03230   \n",
              "2   64  34.529723       95    4.427  1.037394  21.2117     5.462620   6.70188   \n",
              "3   48  23.500000       70    2.707  0.467409   8.8071     9.702400   7.99585   \n",
              "4   42  21.359915       93    2.999  0.687971  19.0826     8.462915  17.37615   \n",
              "\n",
              "     MCP.1  Classification  \n",
              "0  396.021               1  \n",
              "1  382.955               1  \n",
              "2  252.449               0  \n",
              "3  417.114               0  \n",
              "4  321.919               1  "
            ],
            "text/html": [
              "\n",
              "  <div id=\"df-7610c604-4a47-4354-ad92-3b717c30a8c1\" class=\"colab-df-container\">\n",
              "    <div>\n",
              "<style scoped>\n",
              "    .dataframe tbody tr th:only-of-type {\n",
              "        vertical-align: middle;\n",
              "    }\n",
              "\n",
              "    .dataframe tbody tr th {\n",
              "        vertical-align: top;\n",
              "    }\n",
              "\n",
              "    .dataframe thead th {\n",
              "        text-align: right;\n",
              "    }\n",
              "</style>\n",
              "<table border=\"1\" class=\"dataframe\">\n",
              "  <thead>\n",
              "    <tr style=\"text-align: right;\">\n",
              "      <th></th>\n",
              "      <th>Age</th>\n",
              "      <th>BMI</th>\n",
              "      <th>Glucose</th>\n",
              "      <th>Insulin</th>\n",
              "      <th>HOMA</th>\n",
              "      <th>Leptin</th>\n",
              "      <th>Adiponectin</th>\n",
              "      <th>Resistin</th>\n",
              "      <th>MCP.1</th>\n",
              "      <th>Classification</th>\n",
              "    </tr>\n",
              "  </thead>\n",
              "  <tbody>\n",
              "    <tr>\n",
              "      <th>0</th>\n",
              "      <td>60</td>\n",
              "      <td>31.231410</td>\n",
              "      <td>131</td>\n",
              "      <td>30.130</td>\n",
              "      <td>9.736007</td>\n",
              "      <td>37.8430</td>\n",
              "      <td>8.404430</td>\n",
              "      <td>11.50005</td>\n",
              "      <td>396.021</td>\n",
              "      <td>1</td>\n",
              "    </tr>\n",
              "    <tr>\n",
              "      <th>1</th>\n",
              "      <td>45</td>\n",
              "      <td>20.829995</td>\n",
              "      <td>74</td>\n",
              "      <td>4.560</td>\n",
              "      <td>0.832352</td>\n",
              "      <td>7.7529</td>\n",
              "      <td>8.237405</td>\n",
              "      <td>28.03230</td>\n",
              "      <td>382.955</td>\n",
              "      <td>1</td>\n",
              "    </tr>\n",
              "    <tr>\n",
              "      <th>2</th>\n",
              "      <td>64</td>\n",
              "      <td>34.529723</td>\n",
              "      <td>95</td>\n",
              "      <td>4.427</td>\n",
              "      <td>1.037394</td>\n",
              "      <td>21.2117</td>\n",
              "      <td>5.462620</td>\n",
              "      <td>6.70188</td>\n",
              "      <td>252.449</td>\n",
              "      <td>0</td>\n",
              "    </tr>\n",
              "    <tr>\n",
              "      <th>3</th>\n",
              "      <td>48</td>\n",
              "      <td>23.500000</td>\n",
              "      <td>70</td>\n",
              "      <td>2.707</td>\n",
              "      <td>0.467409</td>\n",
              "      <td>8.8071</td>\n",
              "      <td>9.702400</td>\n",
              "      <td>7.99585</td>\n",
              "      <td>417.114</td>\n",
              "      <td>0</td>\n",
              "    </tr>\n",
              "    <tr>\n",
              "      <th>4</th>\n",
              "      <td>42</td>\n",
              "      <td>21.359915</td>\n",
              "      <td>93</td>\n",
              "      <td>2.999</td>\n",
              "      <td>0.687971</td>\n",
              "      <td>19.0826</td>\n",
              "      <td>8.462915</td>\n",
              "      <td>17.37615</td>\n",
              "      <td>321.919</td>\n",
              "      <td>1</td>\n",
              "    </tr>\n",
              "  </tbody>\n",
              "</table>\n",
              "</div>\n",
              "    <div class=\"colab-df-buttons\">\n",
              "\n",
              "  <div class=\"colab-df-container\">\n",
              "    <button class=\"colab-df-convert\" onclick=\"convertToInteractive('df-7610c604-4a47-4354-ad92-3b717c30a8c1')\"\n",
              "            title=\"Convert this dataframe to an interactive table.\"\n",
              "            style=\"display:none;\">\n",
              "\n",
              "  <svg xmlns=\"http://www.w3.org/2000/svg\" height=\"24px\" viewBox=\"0 -960 960 960\">\n",
              "    <path d=\"M120-120v-720h720v720H120Zm60-500h600v-160H180v160Zm220 220h160v-160H400v160Zm0 220h160v-160H400v160ZM180-400h160v-160H180v160Zm440 0h160v-160H620v160ZM180-180h160v-160H180v160Zm440 0h160v-160H620v160Z\"/>\n",
              "  </svg>\n",
              "    </button>\n",
              "\n",
              "  <style>\n",
              "    .colab-df-container {\n",
              "      display:flex;\n",
              "      gap: 12px;\n",
              "    }\n",
              "\n",
              "    .colab-df-convert {\n",
              "      background-color: #E8F0FE;\n",
              "      border: none;\n",
              "      border-radius: 50%;\n",
              "      cursor: pointer;\n",
              "      display: none;\n",
              "      fill: #1967D2;\n",
              "      height: 32px;\n",
              "      padding: 0 0 0 0;\n",
              "      width: 32px;\n",
              "    }\n",
              "\n",
              "    .colab-df-convert:hover {\n",
              "      background-color: #E2EBFA;\n",
              "      box-shadow: 0px 1px 2px rgba(60, 64, 67, 0.3), 0px 1px 3px 1px rgba(60, 64, 67, 0.15);\n",
              "      fill: #174EA6;\n",
              "    }\n",
              "\n",
              "    .colab-df-buttons div {\n",
              "      margin-bottom: 4px;\n",
              "    }\n",
              "\n",
              "    [theme=dark] .colab-df-convert {\n",
              "      background-color: #3B4455;\n",
              "      fill: #D2E3FC;\n",
              "    }\n",
              "\n",
              "    [theme=dark] .colab-df-convert:hover {\n",
              "      background-color: #434B5C;\n",
              "      box-shadow: 0px 1px 3px 1px rgba(0, 0, 0, 0.15);\n",
              "      filter: drop-shadow(0px 1px 2px rgba(0, 0, 0, 0.3));\n",
              "      fill: #FFFFFF;\n",
              "    }\n",
              "  </style>\n",
              "\n",
              "    <script>\n",
              "      const buttonEl =\n",
              "        document.querySelector('#df-7610c604-4a47-4354-ad92-3b717c30a8c1 button.colab-df-convert');\n",
              "      buttonEl.style.display =\n",
              "        google.colab.kernel.accessAllowed ? 'block' : 'none';\n",
              "\n",
              "      async function convertToInteractive(key) {\n",
              "        const element = document.querySelector('#df-7610c604-4a47-4354-ad92-3b717c30a8c1');\n",
              "        const dataTable =\n",
              "          await google.colab.kernel.invokeFunction('convertToInteractive',\n",
              "                                                    [key], {});\n",
              "        if (!dataTable) return;\n",
              "\n",
              "        const docLinkHtml = 'Like what you see? Visit the ' +\n",
              "          '<a target=\"_blank\" href=https://colab.research.google.com/notebooks/data_table.ipynb>data table notebook</a>'\n",
              "          + ' to learn more about interactive tables.';\n",
              "        element.innerHTML = '';\n",
              "        dataTable['output_type'] = 'display_data';\n",
              "        await google.colab.output.renderOutput(dataTable, element);\n",
              "        const docLink = document.createElement('div');\n",
              "        docLink.innerHTML = docLinkHtml;\n",
              "        element.appendChild(docLink);\n",
              "      }\n",
              "    </script>\n",
              "  </div>\n",
              "\n",
              "\n",
              "<div id=\"df-36a7b558-3fbb-4a8a-81b6-bf2e29d31b53\">\n",
              "  <button class=\"colab-df-quickchart\" onclick=\"quickchart('df-36a7b558-3fbb-4a8a-81b6-bf2e29d31b53')\"\n",
              "            title=\"Suggest charts.\"\n",
              "            style=\"display:none;\">\n",
              "\n",
              "<svg xmlns=\"http://www.w3.org/2000/svg\" height=\"24px\"viewBox=\"0 0 24 24\"\n",
              "     width=\"24px\">\n",
              "    <g>\n",
              "        <path d=\"M19 3H5c-1.1 0-2 .9-2 2v14c0 1.1.9 2 2 2h14c1.1 0 2-.9 2-2V5c0-1.1-.9-2-2-2zM9 17H7v-7h2v7zm4 0h-2V7h2v10zm4 0h-2v-4h2v4z\"/>\n",
              "    </g>\n",
              "</svg>\n",
              "  </button>\n",
              "\n",
              "<style>\n",
              "  .colab-df-quickchart {\n",
              "      --bg-color: #E8F0FE;\n",
              "      --fill-color: #1967D2;\n",
              "      --hover-bg-color: #E2EBFA;\n",
              "      --hover-fill-color: #174EA6;\n",
              "      --disabled-fill-color: #AAA;\n",
              "      --disabled-bg-color: #DDD;\n",
              "  }\n",
              "\n",
              "  [theme=dark] .colab-df-quickchart {\n",
              "      --bg-color: #3B4455;\n",
              "      --fill-color: #D2E3FC;\n",
              "      --hover-bg-color: #434B5C;\n",
              "      --hover-fill-color: #FFFFFF;\n",
              "      --disabled-bg-color: #3B4455;\n",
              "      --disabled-fill-color: #666;\n",
              "  }\n",
              "\n",
              "  .colab-df-quickchart {\n",
              "    background-color: var(--bg-color);\n",
              "    border: none;\n",
              "    border-radius: 50%;\n",
              "    cursor: pointer;\n",
              "    display: none;\n",
              "    fill: var(--fill-color);\n",
              "    height: 32px;\n",
              "    padding: 0;\n",
              "    width: 32px;\n",
              "  }\n",
              "\n",
              "  .colab-df-quickchart:hover {\n",
              "    background-color: var(--hover-bg-color);\n",
              "    box-shadow: 0 1px 2px rgba(60, 64, 67, 0.3), 0 1px 3px 1px rgba(60, 64, 67, 0.15);\n",
              "    fill: var(--button-hover-fill-color);\n",
              "  }\n",
              "\n",
              "  .colab-df-quickchart-complete:disabled,\n",
              "  .colab-df-quickchart-complete:disabled:hover {\n",
              "    background-color: var(--disabled-bg-color);\n",
              "    fill: var(--disabled-fill-color);\n",
              "    box-shadow: none;\n",
              "  }\n",
              "\n",
              "  .colab-df-spinner {\n",
              "    border: 2px solid var(--fill-color);\n",
              "    border-color: transparent;\n",
              "    border-bottom-color: var(--fill-color);\n",
              "    animation:\n",
              "      spin 1s steps(1) infinite;\n",
              "  }\n",
              "\n",
              "  @keyframes spin {\n",
              "    0% {\n",
              "      border-color: transparent;\n",
              "      border-bottom-color: var(--fill-color);\n",
              "      border-left-color: var(--fill-color);\n",
              "    }\n",
              "    20% {\n",
              "      border-color: transparent;\n",
              "      border-left-color: var(--fill-color);\n",
              "      border-top-color: var(--fill-color);\n",
              "    }\n",
              "    30% {\n",
              "      border-color: transparent;\n",
              "      border-left-color: var(--fill-color);\n",
              "      border-top-color: var(--fill-color);\n",
              "      border-right-color: var(--fill-color);\n",
              "    }\n",
              "    40% {\n",
              "      border-color: transparent;\n",
              "      border-right-color: var(--fill-color);\n",
              "      border-top-color: var(--fill-color);\n",
              "    }\n",
              "    60% {\n",
              "      border-color: transparent;\n",
              "      border-right-color: var(--fill-color);\n",
              "    }\n",
              "    80% {\n",
              "      border-color: transparent;\n",
              "      border-right-color: var(--fill-color);\n",
              "      border-bottom-color: var(--fill-color);\n",
              "    }\n",
              "    90% {\n",
              "      border-color: transparent;\n",
              "      border-bottom-color: var(--fill-color);\n",
              "    }\n",
              "  }\n",
              "</style>\n",
              "\n",
              "  <script>\n",
              "    async function quickchart(key) {\n",
              "      const quickchartButtonEl =\n",
              "        document.querySelector('#' + key + ' button');\n",
              "      quickchartButtonEl.disabled = true;  // To prevent multiple clicks.\n",
              "      quickchartButtonEl.classList.add('colab-df-spinner');\n",
              "      try {\n",
              "        const charts = await google.colab.kernel.invokeFunction(\n",
              "            'suggestCharts', [key], {});\n",
              "      } catch (error) {\n",
              "        console.error('Error during call to suggestCharts:', error);\n",
              "      }\n",
              "      quickchartButtonEl.classList.remove('colab-df-spinner');\n",
              "      quickchartButtonEl.classList.add('colab-df-quickchart-complete');\n",
              "    }\n",
              "    (() => {\n",
              "      let quickchartButtonEl =\n",
              "        document.querySelector('#df-36a7b558-3fbb-4a8a-81b6-bf2e29d31b53 button');\n",
              "      quickchartButtonEl.style.display =\n",
              "        google.colab.kernel.accessAllowed ? 'block' : 'none';\n",
              "    })();\n",
              "  </script>\n",
              "</div>\n",
              "    </div>\n",
              "  </div>\n"
            ]
          },
          "metadata": {},
          "execution_count": 207
        }
      ],
      "source": [
        "data.head()"
      ]
    },
    {
      "cell_type": "code",
      "execution_count": 208,
      "metadata": {
        "colab": {
          "base_uri": "https://localhost:8080/"
        },
        "id": "NL497QdZHp5y",
        "outputId": "76cec842-7ba0-4153-b8cb-d430fdb61680"
      },
      "outputs": [
        {
          "output_type": "stream",
          "name": "stdout",
          "text": [
            "     Age        BMI  Glucose  Insulin      HOMA   Leptin  Adiponectin  \\\n",
            "0     60  31.231410      131   30.130  9.736007  37.8430     8.404430   \n",
            "1     45  20.829995       74    4.560  0.832352   7.7529     8.237405   \n",
            "2     64  34.529723       95    4.427  1.037394  21.2117     5.462620   \n",
            "3     48  23.500000       70    2.707  0.467409   8.8071     9.702400   \n",
            "4     42  21.359915       93    2.999  0.687971  19.0826     8.462915   \n",
            "..   ...        ...      ...      ...       ...      ...          ...   \n",
            "99    45  29.384757       90    4.713  1.046286  23.8479     6.644245   \n",
            "100   38  23.340000       75    5.782  1.069670  15.2600    17.950000   \n",
            "101   52  30.801249       87   30.212  6.483495  29.2739     6.268540   \n",
            "102   77  25.900000       85    4.580  0.960273  13.7400     9.753260   \n",
            "103   65  30.915577       97   10.491  2.510147  44.0217     3.710090   \n",
            "\n",
            "     Resistin    MCP.1  \n",
            "0    11.50005  396.021  \n",
            "1    28.03230  382.955  \n",
            "2     6.70188  252.449  \n",
            "3     7.99585  417.114  \n",
            "4    17.37615  321.919  \n",
            "..        ...      ...  \n",
            "99   15.55625  621.273  \n",
            "100   9.35000  165.020  \n",
            "101  24.24591  764.667  \n",
            "102  11.77400  488.829  \n",
            "103  20.46850  396.648  \n",
            "\n",
            "[104 rows x 9 columns]\n",
            "*************************\n",
            "0      1\n",
            "1      1\n",
            "2      0\n",
            "3      0\n",
            "4      1\n",
            "      ..\n",
            "99     1\n",
            "100    0\n",
            "101    1\n",
            "102    0\n",
            "103    1\n",
            "Name: Classification, Length: 104, dtype: int64\n"
          ]
        }
      ],
      "source": [
        "# Lectura de Datos\n",
        "#leemos x a partir de la la segunda columna\n",
        "X = data.iloc[:, :9]\n",
        "#y se encuentra en la primer columna\n",
        "y = data.iloc[:, 9]\n",
        "m = y.size\n",
        "\n",
        "print(X)\n",
        "print('*'*25)\n",
        "print(y)"
      ]
    },
    {
      "cell_type": "code",
      "execution_count": 209,
      "metadata": {
        "id": "xa-77XCgHp5y"
      },
      "outputs": [],
      "source": [
        "#definiendo la funcion para realizar una normalizacion de los datos\n",
        "def featureNormalize(X):\n",
        "    # Hace una copia de los datos de entrada\n",
        "    X_norm = X.copy()\n",
        "\n",
        "    # Inicializa vectores mu y sigma con ceros\n",
        "    mu = np.zeros(X.shape[1])\n",
        "    sigma = np.zeros(X.shape[1])\n",
        "\n",
        "    # Calcula la media y la desviación estándar de cada característica\n",
        "    mu = np.mean(X, axis=0)\n",
        "    sigma = np.std(X, axis=0)\n",
        "\n",
        "    # Realiza la normalización de características\n",
        "    X_norm = (X - mu) / sigma\n",
        "\n",
        "    return X_norm, mu, sigma"
      ]
    },
    {
      "cell_type": "code",
      "execution_count": 210,
      "metadata": {
        "colab": {
          "base_uri": "https://localhost:8080/"
        },
        "id": "c_SGJDByHp5y",
        "outputId": "6239e0f9-ba2c-4ee3-a71b-5a38a55d6462"
      },
      "outputs": [
        {
          "output_type": "stream",
          "name": "stdout",
          "text": [
            "     Age        BMI  Glucose  Insulin      HOMA   Leptin  Adiponectin  \\\n",
            "0     60  31.231410      131   30.130  9.736007  37.8430     8.404430   \n",
            "1     45  20.829995       74    4.560  0.832352   7.7529     8.237405   \n",
            "2     64  34.529723       95    4.427  1.037394  21.2117     5.462620   \n",
            "3     48  23.500000       70    2.707  0.467409   8.8071     9.702400   \n",
            "4     42  21.359915       93    2.999  0.687971  19.0826     8.462915   \n",
            "..   ...        ...      ...      ...       ...      ...          ...   \n",
            "99    45  29.384757       90    4.713  1.046286  23.8479     6.644245   \n",
            "100   38  23.340000       75    5.782  1.069670  15.2600    17.950000   \n",
            "101   52  30.801249       87   30.212  6.483495  29.2739     6.268540   \n",
            "102   77  25.900000       85    4.580  0.960273  13.7400     9.753260   \n",
            "103   65  30.915577       97   10.491  2.510147  44.0217     3.710090   \n",
            "\n",
            "     Resistin    MCP.1  \n",
            "0    11.50005  396.021  \n",
            "1    28.03230  382.955  \n",
            "2     6.70188  252.449  \n",
            "3     7.99585  417.114  \n",
            "4    17.37615  321.919  \n",
            "..        ...      ...  \n",
            "99   15.55625  621.273  \n",
            "100   9.35000  165.020  \n",
            "101  24.24591  764.667  \n",
            "102  11.77400  488.829  \n",
            "103  20.46850  396.648  \n",
            "\n",
            "[104 rows x 9 columns]\n",
            "Media calculada: Age             56.894231\n",
            "BMI             27.622863\n",
            "Glucose         98.682692\n",
            "Insulin         10.499702\n",
            "HOMA             2.848104\n",
            "Leptin          26.742392\n",
            "Adiponectin     10.217704\n",
            "Resistin        15.273326\n",
            "MCP.1          543.385683\n",
            "dtype: float64\n",
            "Desviación estandar calculada: Age             15.819242\n",
            "BMI              4.928340\n",
            "Glucose         22.937735\n",
            "Insulin         10.439170\n",
            "HOMA             3.788346\n",
            "Leptin          18.650421\n",
            "Adiponectin      6.881219\n",
            "Resistin        12.448680\n",
            "MCP.1          351.438230\n",
            "dtype: float64\n",
            "          Age       BMI   Glucose   Insulin      HOMA    Leptin  Adiponectin  \\\n",
            "0    0.196329  0.732203  1.408914  1.880446  1.818182  0.595193    -0.263511   \n",
            "1   -0.751884 -1.378328 -1.076074 -0.568982 -0.532093 -1.018180    -0.287783   \n",
            "2    0.449185  1.401458 -0.160552 -0.581723 -0.477968 -0.296545    -0.691023   \n",
            "3   -0.562241 -0.836562 -1.250459 -0.746487 -0.628426 -0.961656    -0.074886   \n",
            "4   -0.941526 -1.270803 -0.247744 -0.718515 -0.570205 -0.410703    -0.255011   \n",
            "..        ...       ...       ...       ...       ...       ...          ...   \n",
            "99  -0.751884  0.357502 -0.378533 -0.554326 -0.475621 -0.155197    -0.519306   \n",
            "100 -1.194383 -0.869028 -1.032477 -0.451923 -0.469449 -0.615664     1.123681   \n",
            "101 -0.309385  0.644920 -0.509322  1.888301  0.959625  0.135735    -0.573905   \n",
            "102  1.270969 -0.349583 -0.596515 -0.567066 -0.498326 -0.697163    -0.067494   \n",
            "103  0.512399  0.668118 -0.073359 -0.000834 -0.089210  0.926483    -0.945706   \n",
            "\n",
            "     Resistin     MCP.1  \n",
            "0   -0.303107 -0.419319  \n",
            "1    1.024926 -0.456498  \n",
            "2   -0.688543 -0.827846  \n",
            "3   -0.584598 -0.359300  \n",
            "4    0.168919 -0.630172  \n",
            "..        ...       ...  \n",
            "99   0.022727  0.221624  \n",
            "100 -0.475820 -1.076621  \n",
            "101  0.720766  0.629645  \n",
            "102 -0.281100 -0.155238  \n",
            "103  0.417327 -0.417535  \n",
            "\n",
            "[104 rows x 9 columns]\n"
          ]
        }
      ],
      "source": [
        "# llama featureNormalize con los datos cargados\n",
        "X_norm, mu, sigma = featureNormalize(X)\n",
        "\n",
        "print(X)\n",
        "print('Media calculada:', mu)\n",
        "print('Desviación estandar calculada:', sigma)\n",
        "print(X_norm)"
      ]
    },
    {
      "cell_type": "code",
      "execution_count": 213,
      "metadata": {
        "id": "Y9ifiaHnHp5z"
      },
      "outputs": [],
      "source": [
        "def sigmoid(z):\n",
        "    # Calcula la sigmoide de una entrada z\n",
        "    # Convierte la entrada a un arreglo numpy\n",
        "    z = np.array(z)\n",
        "\n",
        "    # Limita los valores de z para evitar overflow\n",
        "    z = np.clip(z, -500, 500)\n",
        "\n",
        "    g = 1 / (1 + np.exp(-z))\n",
        "\n",
        "    return g\n"
      ]
    },
    {
      "cell_type": "code",
      "execution_count": 214,
      "metadata": {
        "colab": {
          "base_uri": "https://localhost:8080/"
        },
        "id": "v9L7dV4vHp5z",
        "outputId": "e13ef663-381a-4f82-c9ae-d1cf8f090697"
      },
      "outputs": [
        {
          "output_type": "stream",
          "name": "stdout",
          "text": [
            "g( 0 ) =  0.5\n"
          ]
        }
      ],
      "source": [
        "# Prueba la implementacion de la funcion sigmoid\n",
        "z = 0\n",
        "g = sigmoid(z)\n",
        "\n",
        "print('g(', z, ') = ', g)"
      ]
    },
    {
      "cell_type": "code",
      "execution_count": 215,
      "metadata": {
        "colab": {
          "base_uri": "https://localhost:8080/"
        },
        "id": "SjL26AyiHp50",
        "outputId": "9cb9f119-1bba-4cbb-91b6-1187a94ea47b"
      },
      "outputs": [
        {
          "output_type": "stream",
          "name": "stdout",
          "text": [
            "[1.0000000e+00 6.5000000e+01 2.9666548e+01 8.5000000e+01 1.4649000e+01\n",
            " 3.0714070e+00 2.6516600e+01 7.2828700e+00 1.9463240e+01 1.6984400e+03]\n"
          ]
        }
      ],
      "source": [
        "# Configurar la matriz adecuadamente, y agregar una columna de unos que corresponde al termino de intercepción.\n",
        "m, n = X.shape\n",
        "# Agraga el termino de intercepción a A\n",
        "X = np.concatenate([np.ones((m, 1)), X], axis=1)\n",
        "\n",
        "print(X[5])"
      ]
    },
    {
      "cell_type": "code",
      "execution_count": 218,
      "metadata": {
        "id": "sxZCn2kfNQ9v"
      },
      "outputs": [],
      "source": [
        "#definicion del calculo del costo mediante la sigmoide\n",
        "\n",
        "def calcularCosto(theta, X, y):\n",
        "    # Inicializar algunos valores utiles\n",
        "    m = y.size  # numero de ejemplos de entrenamiento\n",
        "    #epsilon = 1e-8\n",
        "\n",
        "    J = 0\n",
        "    h = sigmoid(X.dot(theta.T))\n",
        "\n",
        "    epsilon = 1e-10  # Un valor pequeño para evitar divisiones por cero\n",
        "    J = (1 / m) * np.sum(-y.dot(np.log(h + epsilon)) - (1 - y).dot(np.log(1 - h + epsilon)))\n",
        "\n",
        "    # J = (1 / m) * np.sum(-y.dot(np.log(h)) - (1 - y).dot(np.log(1 - h)))\n",
        "\n",
        "    return J\n"
      ]
    },
    {
      "cell_type": "code",
      "execution_count": 219,
      "metadata": {
        "id": "F6eWsnoPNQ9v"
      },
      "outputs": [],
      "source": [
        "#definicion del desenso por el gradiente\n",
        "\n",
        "def descensoGradiente(theta, X, y, alpha, num_iters):\n",
        "    # Inicializa algunos valores\n",
        "    m = y.shape[0] # número de ejemplos de entrenamiento\n",
        "\n",
        "    # Realiza una copia de theta, que será actualizada por el descenso por el gradiente\n",
        "    theta = theta.copy()\n",
        "    J_history = []  # Lista para almacenar el historial de valores de la función de costo\n",
        "\n",
        "    for i in range(num_iters):\n",
        "        # Calcula la hipótesis utilizando la función sigmoide\n",
        "        h = sigmoid(X.dot(theta.T))\n",
        "\n",
        "        # Actualiza los parámetros theta utilizando el descenso por el gradiente\n",
        "        theta = theta - (alpha / m) * (h - y).dot(X)\n",
        "\n",
        "        # Calcula el valor de la función de costo actual y lo agrega al historial\n",
        "        J_history.append(calcularCosto(theta, X, y))\n",
        "\n",
        "    return theta, J_history\n"
      ]
    },
    {
      "cell_type": "code",
      "execution_count": 220,
      "metadata": {
        "id": "M5zxbvwPHp51"
      },
      "outputs": [],
      "source": [
        "#Carga de dataset\n",
        "data_test = pd.read_csv('test.csv')\n",
        "#print(data)"
      ]
    },
    {
      "cell_type": "code",
      "execution_count": 221,
      "metadata": {
        "colab": {
          "base_uri": "https://localhost:8080/"
        },
        "id": "fmgnrB9wHp51",
        "outputId": "b30e3e48-f3f3-44a1-8ffc-5ea354f7c195"
      },
      "outputs": [
        {
          "output_type": "stream",
          "name": "stdout",
          "text": [
            "[ 64.          22.22222222  98.           5.7          1.37788\n",
            "  12.1905       4.783985    13.91245    395.976        1.        ]\n"
          ]
        }
      ],
      "source": [
        "# Selecciona el índice de la fila deseada\n",
        "fila_deseada = 10\n",
        "\n",
        "# Verifica si el índice de la fila deseada está dentro del rango válido\n",
        "if fila_deseada < len(data_test):\n",
        "    # Selecciona la fila completa en forma de arreglo NumPy\n",
        "    fila_completa = data.iloc[fila_deseada].to_numpy()\n",
        "    # Imprime la fila completa\n",
        "    print(fila_completa)\n",
        "else:\n",
        "    # Si el índice está fuera del rango, muestra un mensaje de error\n",
        "    print(\"La fila no existe\")\n"
      ]
    },
    {
      "cell_type": "code",
      "execution_count": 222,
      "metadata": {
        "colab": {
          "base_uri": "https://localhost:8080/",
          "height": 518
        },
        "id": "WySm0EysHp52",
        "outputId": "0115b9ef-f5ff-4707-d685-afcb191cec9d"
      },
      "outputs": [
        {
          "output_type": "stream",
          "name": "stdout",
          "text": [
            "theta calculado por el descenso por el gradiente: [-0.00084653 -0.02360528 -0.03578256  0.02944679  0.02578332  0.0096848\n",
            " -0.01836456 -0.01126799  0.02196799 -0.00014157]\n",
            "(usando el descenso por el gradiente):0.6706512873321202\n",
            "Existe mucha probabilidad de cancer\n"
          ]
        },
        {
          "output_type": "display_data",
          "data": {
            "text/plain": [
              "<Figure size 640x480 with 1 Axes>"
            ],
            "image/png": "[encoded data removed]"
          },
          "metadata": {}
        }
      ],
      "source": [
        "# Elegir algun valor para alpha (probar varias alternativas)\n",
        "alpha = 0.00001\n",
        "num_iters = 5000\n",
        "\n",
        "# inicializa theta y ejecuta el descenso por el gradiente\n",
        "theta = np.zeros(10)\n",
        "theta, J_history = descensoGradiente(theta, X, y, alpha, num_iters)\n",
        "\n",
        "# Grafica la convergencia del costo\n",
        "pyplot.plot(np.arange(len(J_history)), J_history, lw=2)\n",
        "pyplot.xlabel('Numero de iteraciones')\n",
        "pyplot.ylabel('Costo J')\n",
        "\n",
        "# Muestra los resultados del descenso por el gradiente\n",
        "print('theta calculado por el descenso por el gradiente: {:s}'.format(str(theta)))\n",
        "\n",
        "# verificar si ingresa o no a la universidad\n",
        "X_array = [1, 64, 22.22222222, 98, 5.7, 1.37788, 12.1905, 4.783985, 13.91245, 395.976]\n",
        "\n",
        "aprueba = sigmoid(np.dot(X_array, theta))   # Se debe cambiar esto\n",
        "\n",
        "print(f\"(usando el descenso por el gradiente):{aprueba}\")\n",
        "\n",
        "if aprueba > 0.5: print('Existe mucha probabilidad de cancer')\n",
        "else: print('Las probabilidad de cancer es baja')"
      ]
    }
  ],
  "metadata": {
    "colab": {
      "provenance": []
    },
    "kernelspec": {
      "display_name": "Python 3",
      "language": "python",
      "name": "python3"
    },
    "language_info": {
      "codemirror_mode": {
        "name": "ipython",
        "version": 3
      },
      "file_extension": ".py",
      "mimetype": "text/x-python",
      "name": "python",
      "nbconvert_exporter": "python",
      "pygments_lexer": "ipython3",
      "version": "3.11.5"
    },
    "orig_nbformat": 4
  },
  "nbformat": 4,
  "nbformat_minor": 0
}