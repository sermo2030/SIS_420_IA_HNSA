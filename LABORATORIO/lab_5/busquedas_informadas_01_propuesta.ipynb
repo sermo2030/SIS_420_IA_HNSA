{
  "nbformat": 4,
  "nbformat_minor": 0,
  "metadata": {
    "colab": {
      "provenance": []
    },
    "kernelspec": {
      "name": "python3",
      "display_name": "Python 3"
    },
    "language_info": {
      "name": "python"
    }
  },
  "cells": [
    {
      "cell_type": "code",
      "execution_count": 1,
      "metadata": {
        "id": "_fG0Sr4QzAoN",
        "colab": {
          "base_uri": "https://localhost:8080/"
        },
        "outputId": "99c05450-6b14-4156-df48-3430b893d42f"
      },
      "outputs": [
        {
          "output_type": "stream",
          "name": "stdout",
          "text": [
            "Mounted at /content/gdrive/\n"
          ]
        }
      ],
      "source": [
        "from google.colab import drive\n",
        "drive.mount('/content/gdrive/')"
      ]
    },
    {
      "cell_type": "code",
      "source": [
        "import sys\n",
        "sys.path.append('/content/gdrive/MyDrive/UMRPSFXCH/2023_2/SIS-420/busquedas informadas')\n",
        "\n",
        "from NodosBI import NodoBI"
      ],
      "metadata": {
        "id": "FDHJgjP-zWU5"
      },
      "execution_count": 2,
      "outputs": []
    },
    {
      "cell_type": "code",
      "source": [
        "def busqueda_heuristica(nodo_inicial, solucion, visitados):\n",
        "    visitados.append(nodo_inicial.get_estado())\n",
        "    if nodo_inicial.get_estado() == solucion:\n",
        "        return nodo_inicial\n",
        "    else:\n",
        "        # Expandir nodos sucesores (hijos)\n",
        "        nodo_estado = nodo_inicial.get_estado()\n",
        "        hijo = [nodo_estado[1], nodo_estado[0], nodo_estado[2], nodo_estado[3]]\n",
        "        hijo_left = NodoBI(hijo)\n",
        "        hijo = [nodo_estado[0], nodo_estado[2], nodo_estado[1], nodo_estado[3]]\n",
        "        hijo_central = NodoBI(hijo)\n",
        "        hijo = [nodo_estado[0], nodo_estado[1], nodo_estado[3], nodo_estado[2]]\n",
        "        hijo_right = NodoBI(hijo)\n",
        "        nodo_inicial.set_hijo([hijo_left, hijo_central, hijo_right])\n",
        "\n",
        "        for hijo_node in nodo_inicial.get_hijo():\n",
        "            if not hijo_node.get_estado() in visitados and heuristica(nodo_inicial, hijo_node):\n",
        "            #if not hijo_node.get_estado() in visitados:\n",
        "                # Llamada recursiva\n",
        "                solu = busqueda_heuristica(hijo_node, solucion, visitados)\n",
        "                if solu is not None:\n",
        "                    return solu\n",
        "        return None\n",
        "\n",
        "#Heuristica propuesta\n",
        "#Si el número de discos en la posición final deseada es\n",
        "#mayor o igual que el número de discos en la posición\n",
        "#final deseada en el estado padre, entonces el estado\n",
        "# hijo es mejor que el estado padre.\n",
        "def heuristica(padre_node, hijo_node):\n",
        "    padre_quality = 0\n",
        "    hijo_quality = 0\n",
        "    padre_data = padre_node.get_estado()\n",
        "    hijo_data = hijo_node.get_estado()\n",
        "\n",
        "    for n in range(len(padre_data)):\n",
        "        if padre_data[n] == n + 1:\n",
        "            padre_quality = padre_quality + 1\n",
        "        if hijo_data[n] == n + 1:\n",
        "            hijo_quality = hijo_quality + 1\n",
        "\n",
        "    if hijo_quality >= padre_quality:\n",
        "        return True\n",
        "    else:\n",
        "        return False"
      ],
      "metadata": {
        "id": "dnb98s6VzYDX"
      },
      "execution_count": 31,
      "outputs": []
    },
    {
      "cell_type": "code",
      "source": [
        "if __name__ == \"__main__\":\n",
        "    # estado_inicial = [1, 2, 3, 4]\n",
        "    # estado_solucion = [4, 3, 2, 1]\n",
        "\n",
        "    estado_inicial = [1, 4, 2, 3]\n",
        "    #estado_inicial  = [4, 3, 2, 1]\n",
        "    estado_solucion = [1, 2, 3, 4]\n",
        "\n",
        "    visitados_nodes = []\n",
        "    nodo_inicial = NodoBI(estado_inicial)\n",
        "    nodo_solucion = busqueda_heuristica(nodo_inicial, estado_solucion, visitados_nodes)\n",
        "\n",
        "    print(nodo_solucion)\n",
        "\n",
        "    resultado = []\n",
        "\n",
        "    node = nodo_solucion\n",
        "    while node.get_padre() is not None:\n",
        "        resultado.append(node.get_estado())\n",
        "        node = node.get_padre()\n",
        "    resultado.append(estado_inicial)\n",
        "    resultado.reverse()\n",
        "    print(resultado)"
      ],
      "metadata": {
        "colab": {
          "base_uri": "https://localhost:8080/"
        },
        "id": "7TK31n6s6_0D",
        "outputId": "a145666d-8dc4-45e5-d319-f76332e411a9"
      },
      "execution_count": 33,
      "outputs": [
        {
          "output_type": "stream",
          "name": "stdout",
          "text": [
            "[1, 2, 3, 4]\n",
            "[[1, 4, 2, 3], [1, 2, 4, 3], [1, 2, 3, 4]]\n"
          ]
        }
      ]
    }
  ]
}