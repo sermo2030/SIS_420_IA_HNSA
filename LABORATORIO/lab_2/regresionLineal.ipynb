{
 "cells": [
  {
   "cell_type": "code",
   "execution_count": 39,
   "metadata": {},
   "outputs": [],
   "source": [
    "# utilizado para manejos de directorios y rutas\n",
    "import os\n",
    "\n",
    "# Computacion vectorial y cientifica para python\n",
    "import numpy as np\n",
    "\n",
    "# Librerias para graficación (trazado de gráficos)\n",
    "from matplotlib import pyplot\n",
    "from mpl_toolkits.mplot3d import Axes3D  # Necesario para graficar superficies 3D\n",
    "\n",
    "# llama a matplotlib a embeber graficas dentro de los cuadernillos\n",
    "%matplotlib inline"
   ]
  },
  {
   "cell_type": "code",
   "execution_count": 40,
   "metadata": {},
   "outputs": [],
   "source": [
    "import pandas as pd\n",
    "from sklearn.preprocessing import LabelEncoder\n",
    "from datetime import datetime"
   ]
  },
  {
   "cell_type": "code",
   "execution_count": 41,
   "metadata": {},
   "outputs": [],
   "source": [
    "#Carga de dataset\n",
    "data = pd.read_csv('pizza_v1.csv')"
   ]
  },
  {
   "cell_type": "code",
   "execution_count": 42,
   "metadata": {},
   "outputs": [
    {
     "name": "stdout",
     "output_type": "stream",
     "text": [
      "    company price_rupiah  diameter      topping           variant     size  \\\n",
      "0         A    Rp235,000      22.0      chicken  double_signature    jumbo   \n",
      "1         A    Rp198,000      20.0    papperoni  double_signature    jumbo   \n",
      "2         A    Rp120,000      16.0    mushrooms  double_signature  reguler   \n",
      "3         A    Rp155,000      14.0  smoked beef  double_signature  reguler   \n",
      "4         A    Rp248,000      18.0   mozzarella  double_signature    jumbo   \n",
      "..      ...          ...       ...          ...               ...      ...   \n",
      "124       E     Rp39,000       8.5         tuna        spicy tuna    small   \n",
      "125       E     Rp72,000      12.0         tuna        spicy tuna   medium   \n",
      "126       E     Rp99,000      14.0         tuna        spicy tuna    large   \n",
      "127       E     Rp44,000       8.5         meat   BBQ_meat_fiesta    small   \n",
      "128       E     Rp78,000      12.0         meat   BBQ_meat_fiesta   medium   \n",
      "\n",
      "    extra_sauce extra_cheese  \n",
      "0           yes          yes  \n",
      "1           yes          yes  \n",
      "2           yes          yes  \n",
      "3           yes           no  \n",
      "4           yes           no  \n",
      "..          ...          ...  \n",
      "124         yes          yes  \n",
      "125         yes          yes  \n",
      "126         yes          yes  \n",
      "127         yes           no  \n",
      "128          no           no  \n",
      "\n",
      "[129 rows x 8 columns]\n"
     ]
    }
   ],
   "source": [
    "print(data)"
   ]
  },
  {
   "cell_type": "code",
   "execution_count": 43,
   "metadata": {},
   "outputs": [
    {
     "name": "stdout",
     "output_type": "stream",
     "text": [
      "<class 'pandas.core.frame.DataFrame'>\n",
      "RangeIndex: 129 entries, 0 to 128\n",
      "Data columns (total 8 columns):\n",
      " #   Column        Non-Null Count  Dtype  \n",
      "---  ------        --------------  -----  \n",
      " 0   company       129 non-null    object \n",
      " 1   price_rupiah  129 non-null    object \n",
      " 2   diameter      129 non-null    float64\n",
      " 3   topping       129 non-null    object \n",
      " 4   variant       129 non-null    object \n",
      " 5   size          129 non-null    object \n",
      " 6   extra_sauce   129 non-null    object \n",
      " 7   extra_cheese  129 non-null    object \n",
      "dtypes: float64(1), object(7)\n",
      "memory usage: 8.2+ KB\n"
     ]
    }
   ],
   "source": [
    "data.info()"
   ]
  },
  {
   "cell_type": "code",
   "execution_count": 44,
   "metadata": {},
   "outputs": [],
   "source": [
    "# Lista con el nuevo orden de las columnas\n",
    "nuevo_orden_columnas = ['company', 'diameter', 'topping', 'variant', 'size', 'extra_sauce', 'extra_cheese', 'price_rupiah']  # Agrega las demás columnas\n",
    "\n",
    "# Reordena las columnas del DataFrame según el nuevo orden\n",
    "data = data[nuevo_orden_columnas]"
   ]
  },
  {
   "cell_type": "code",
   "execution_count": 45,
   "metadata": {},
   "outputs": [
    {
     "name": "stdout",
     "output_type": "stream",
     "text": [
      "<class 'pandas.core.frame.DataFrame'>\n",
      "RangeIndex: 129 entries, 0 to 128\n",
      "Data columns (total 8 columns):\n",
      " #   Column        Non-Null Count  Dtype  \n",
      "---  ------        --------------  -----  \n",
      " 0   company       129 non-null    object \n",
      " 1   diameter      129 non-null    float64\n",
      " 2   topping       129 non-null    object \n",
      " 3   variant       129 non-null    object \n",
      " 4   size          129 non-null    object \n",
      " 5   extra_sauce   129 non-null    object \n",
      " 6   extra_cheese  129 non-null    object \n",
      " 7   price_rupiah  129 non-null    object \n",
      "dtypes: float64(1), object(7)\n",
      "memory usage: 8.2+ KB\n"
     ]
    }
   ],
   "source": [
    "data.info()"
   ]
  },
  {
   "cell_type": "code",
   "execution_count": 46,
   "metadata": {},
   "outputs": [],
   "source": [
    "columnas_eliminar = ['price_rupiah']\n",
    "simbolo = 'Rp'\n",
    "\n",
    "for columna in columnas_eliminar:\n",
    "    data[columna] = data[columna].str.replace(simbolo, '', regex=False)"
   ]
  },
  {
   "cell_type": "code",
   "execution_count": 47,
   "metadata": {},
   "outputs": [
    {
     "name": "stdout",
     "output_type": "stream",
     "text": [
      "    company  diameter      topping           variant     size extra_sauce  \\\n",
      "0         A      22.0      chicken  double_signature    jumbo         yes   \n",
      "1         A      20.0    papperoni  double_signature    jumbo         yes   \n",
      "2         A      16.0    mushrooms  double_signature  reguler         yes   \n",
      "3         A      14.0  smoked beef  double_signature  reguler         yes   \n",
      "4         A      18.0   mozzarella  double_signature    jumbo         yes   \n",
      "..      ...       ...          ...               ...      ...         ...   \n",
      "124       E       8.5         tuna        spicy tuna    small         yes   \n",
      "125       E      12.0         tuna        spicy tuna   medium         yes   \n",
      "126       E      14.0         tuna        spicy tuna    large         yes   \n",
      "127       E       8.5         meat   BBQ_meat_fiesta    small         yes   \n",
      "128       E      12.0         meat   BBQ_meat_fiesta   medium          no   \n",
      "\n",
      "    extra_cheese price_rupiah  \n",
      "0            yes      235,000  \n",
      "1            yes      198,000  \n",
      "2            yes      120,000  \n",
      "3             no      155,000  \n",
      "4             no      248,000  \n",
      "..           ...          ...  \n",
      "124          yes       39,000  \n",
      "125          yes       72,000  \n",
      "126          yes       99,000  \n",
      "127           no       44,000  \n",
      "128           no       78,000  \n",
      "\n",
      "[129 rows x 8 columns]\n"
     ]
    }
   ],
   "source": [
    "print(data)"
   ]
  },
  {
   "cell_type": "code",
   "execution_count": 48,
   "metadata": {},
   "outputs": [
    {
     "name": "stdout",
     "output_type": "stream",
     "text": [
      "<class 'pandas.core.frame.DataFrame'>\n",
      "RangeIndex: 129 entries, 0 to 128\n",
      "Data columns (total 8 columns):\n",
      " #   Column        Non-Null Count  Dtype  \n",
      "---  ------        --------------  -----  \n",
      " 0   company       129 non-null    object \n",
      " 1   diameter      129 non-null    float64\n",
      " 2   topping       129 non-null    object \n",
      " 3   variant       129 non-null    object \n",
      " 4   size          129 non-null    object \n",
      " 5   extra_sauce   129 non-null    object \n",
      " 6   extra_cheese  129 non-null    object \n",
      " 7   price_rupiah  129 non-null    object \n",
      "dtypes: float64(1), object(7)\n",
      "memory usage: 8.2+ KB\n"
     ]
    }
   ],
   "source": [
    "data.info()"
   ]
  },
  {
   "cell_type": "code",
   "execution_count": 49,
   "metadata": {},
   "outputs": [],
   "source": [
    "columnas_eliminar = ['price_rupiah']\n",
    "simbolo = ',000'\n",
    "\n",
    "for columna in columnas_eliminar:\n",
    "    data[columna] = data[columna].str.replace(simbolo, '', regex=False)"
   ]
  },
  {
   "cell_type": "code",
   "execution_count": 50,
   "metadata": {},
   "outputs": [
    {
     "name": "stdout",
     "output_type": "stream",
     "text": [
      "    company  diameter      topping           variant     size extra_sauce  \\\n",
      "0         A      22.0      chicken  double_signature    jumbo         yes   \n",
      "1         A      20.0    papperoni  double_signature    jumbo         yes   \n",
      "2         A      16.0    mushrooms  double_signature  reguler         yes   \n",
      "3         A      14.0  smoked beef  double_signature  reguler         yes   \n",
      "4         A      18.0   mozzarella  double_signature    jumbo         yes   \n",
      "..      ...       ...          ...               ...      ...         ...   \n",
      "124       E       8.5         tuna        spicy tuna    small         yes   \n",
      "125       E      12.0         tuna        spicy tuna   medium         yes   \n",
      "126       E      14.0         tuna        spicy tuna    large         yes   \n",
      "127       E       8.5         meat   BBQ_meat_fiesta    small         yes   \n",
      "128       E      12.0         meat   BBQ_meat_fiesta   medium          no   \n",
      "\n",
      "    extra_cheese price_rupiah  \n",
      "0            yes          235  \n",
      "1            yes          198  \n",
      "2            yes          120  \n",
      "3             no          155  \n",
      "4             no          248  \n",
      "..           ...          ...  \n",
      "124          yes           39  \n",
      "125          yes           72  \n",
      "126          yes           99  \n",
      "127           no           44  \n",
      "128           no           78  \n",
      "\n",
      "[129 rows x 8 columns]\n"
     ]
    }
   ],
   "source": [
    "print(data)"
   ]
  },
  {
   "cell_type": "code",
   "execution_count": 51,
   "metadata": {},
   "outputs": [],
   "source": [
    "# Supongamos que 'data' es tu DataFrame\n",
    "columna_categorica = 'price_rupiah'\n",
    "columna_numerica = 'price'\n",
    "\n",
    "# Crea una nueva columna numérica y copia los valores de la columna categórica\n",
    "data[columna_numerica] = pd.to_numeric(data[columna_categorica], errors='coerce')\n",
    "\n",
    "# Elimina la columna categórica original\n",
    "data.drop(columna_categorica, axis=1, inplace=True)"
   ]
  },
  {
   "cell_type": "code",
   "execution_count": 52,
   "metadata": {},
   "outputs": [
    {
     "name": "stdout",
     "output_type": "stream",
     "text": [
      "<class 'pandas.core.frame.DataFrame'>\n",
      "RangeIndex: 129 entries, 0 to 128\n",
      "Data columns (total 8 columns):\n",
      " #   Column        Non-Null Count  Dtype  \n",
      "---  ------        --------------  -----  \n",
      " 0   company       129 non-null    object \n",
      " 1   diameter      129 non-null    float64\n",
      " 2   topping       129 non-null    object \n",
      " 3   variant       129 non-null    object \n",
      " 4   size          129 non-null    object \n",
      " 5   extra_sauce   129 non-null    object \n",
      " 6   extra_cheese  129 non-null    object \n",
      " 7   price         124 non-null    float64\n",
      "dtypes: float64(2), object(6)\n",
      "memory usage: 8.2+ KB\n"
     ]
    }
   ],
   "source": [
    "data.info()"
   ]
  },
  {
   "cell_type": "code",
   "execution_count": 53,
   "metadata": {},
   "outputs": [],
   "source": [
    "#variables categoricas\n",
    "columnas_categoricas = data.select_dtypes(include=['object']).columns\n",
    "#variables fechas\n",
    "columnas_fechas = data.select_dtypes(include=['datetime64']).columns"
   ]
  },
  {
   "cell_type": "code",
   "execution_count": 54,
   "metadata": {},
   "outputs": [],
   "source": [
    "#Procesamiento de frases o palabras\n",
    "for columna in columnas_categoricas:\n",
    "  le = LabelEncoder()\n",
    "  data[columna] = le.fit_transform(data[columna])"
   ]
  },
  {
   "cell_type": "code",
   "execution_count": 55,
   "metadata": {},
   "outputs": [
    {
     "name": "stdout",
     "output_type": "stream",
     "text": [
      "     company  diameter  topping  variant  size  extra_sauce  extra_cheese  \\\n",
      "0          0      22.0        2        8     1            1             1   \n",
      "1          0      20.0        7        8     1            1             1   \n",
      "2          0      16.0        5        8     4            1             1   \n",
      "3          0      14.0        9        8     4            1             0   \n",
      "4          0      18.0        4        8     1            1             0   \n",
      "..       ...       ...      ...      ...   ...          ...           ...   \n",
      "124        4       8.5       10       16     5            1             1   \n",
      "125        4      12.0       10       16     3            1             1   \n",
      "126        4      14.0       10       16     2            1             1   \n",
      "127        4       8.5        3        0     5            1             0   \n",
      "128        4      12.0        3        0     3            0             0   \n",
      "\n",
      "     price  \n",
      "0    235.0  \n",
      "1    198.0  \n",
      "2    120.0  \n",
      "3    155.0  \n",
      "4    248.0  \n",
      "..     ...  \n",
      "124   39.0  \n",
      "125   72.0  \n",
      "126   99.0  \n",
      "127   44.0  \n",
      "128   78.0  \n",
      "\n",
      "[129 rows x 8 columns]\n"
     ]
    }
   ],
   "source": [
    "#resultado\n",
    "print(data)"
   ]
  },
  {
   "cell_type": "code",
   "execution_count": 56,
   "metadata": {},
   "outputs": [],
   "source": [
    "#llenar datos vacios\n",
    "columnas_especificas = ['price']\n",
    "media_columnas = data[columnas_especificas].mean()\n",
    "data[columnas_especificas] = data[columnas_especificas].fillna(media_columnas)"
   ]
  },
  {
   "cell_type": "code",
   "execution_count": 57,
   "metadata": {},
   "outputs": [
    {
     "name": "stdout",
     "output_type": "stream",
     "text": [
      "<class 'pandas.core.frame.DataFrame'>\n",
      "RangeIndex: 129 entries, 0 to 128\n",
      "Data columns (total 8 columns):\n",
      " #   Column        Non-Null Count  Dtype  \n",
      "---  ------        --------------  -----  \n",
      " 0   company       129 non-null    int32  \n",
      " 1   diameter      129 non-null    float64\n",
      " 2   topping       129 non-null    int32  \n",
      " 3   variant       129 non-null    int32  \n",
      " 4   size          129 non-null    int32  \n",
      " 5   extra_sauce   129 non-null    int32  \n",
      " 6   extra_cheese  129 non-null    int32  \n",
      " 7   price         129 non-null    float64\n",
      "dtypes: float64(2), int32(6)\n",
      "memory usage: 5.2 KB\n"
     ]
    }
   ],
   "source": [
    "data.info()"
   ]
  },
  {
   "cell_type": "code",
   "execution_count": 58,
   "metadata": {},
   "outputs": [],
   "source": [
    "# Lectura de Datos\n",
    "# y es la sexta columna ya que es la columna de precios\n",
    "X = data.iloc[:, :7]\n",
    "y = data.iloc[:, 7]\n",
    "m = y.size"
   ]
  },
  {
   "cell_type": "code",
   "execution_count": 59,
   "metadata": {},
   "outputs": [
    {
     "name": "stdout",
     "output_type": "stream",
     "text": [
      "     company  diameter  topping  variant  size  extra_sauce  extra_cheese\n",
      "0          0      22.0        2        8     1            1             1\n",
      "1          0      20.0        7        8     1            1             1\n",
      "2          0      16.0        5        8     4            1             1\n",
      "3          0      14.0        9        8     4            1             0\n",
      "4          0      18.0        4        8     1            1             0\n",
      "..       ...       ...      ...      ...   ...          ...           ...\n",
      "124        4       8.5       10       16     5            1             1\n",
      "125        4      12.0       10       16     3            1             1\n",
      "126        4      14.0       10       16     2            1             1\n",
      "127        4       8.5        3        0     5            1             0\n",
      "128        4      12.0        3        0     3            0             0\n",
      "\n",
      "[129 rows x 7 columns]\n",
      "*************************\n",
      "0      235.0\n",
      "1      198.0\n",
      "2      120.0\n",
      "3      155.0\n",
      "4      248.0\n",
      "       ...  \n",
      "124     39.0\n",
      "125     72.0\n",
      "126     99.0\n",
      "127     44.0\n",
      "128     78.0\n",
      "Name: price, Length: 129, dtype: float64\n"
     ]
    }
   ],
   "source": [
    "print(X)\n",
    "print('*'*25)\n",
    "print(y)"
   ]
  },
  {
   "cell_type": "code",
   "execution_count": 60,
   "metadata": {},
   "outputs": [],
   "source": [
    "def  featureNormalize(X):\n",
    "    X_norm = X.copy()\n",
    "    mu = np.zeros(X.shape[1])\n",
    "    sigma = np.zeros(X.shape[1])\n",
    "\n",
    "    mu = np.mean(X, axis = 0)\n",
    "    sigma = np.std(X, axis = 0)\n",
    "    X_norm = (X - mu) / sigma\n",
    "\n",
    "    return X_norm, mu, sigma"
   ]
  },
  {
   "cell_type": "code",
   "execution_count": 61,
   "metadata": {},
   "outputs": [
    {
     "name": "stdout",
     "output_type": "stream",
     "text": [
      "     company  diameter  topping  variant  size  extra_sauce  extra_cheese\n",
      "0          0      22.0        2        8     1            1             1\n",
      "1          0      20.0        7        8     1            1             1\n",
      "2          0      16.0        5        8     4            1             1\n",
      "3          0      14.0        9        8     4            1             0\n",
      "4          0      18.0        4        8     1            1             0\n",
      "..       ...       ...      ...      ...   ...          ...           ...\n",
      "124        4       8.5       10       16     5            1             1\n",
      "125        4      12.0       10       16     3            1             1\n",
      "126        4      14.0       10       16     2            1             1\n",
      "127        4       8.5        3        0     5            1             0\n",
      "128        4      12.0        3        0     3            0             0\n",
      "\n",
      "[129 rows x 7 columns]\n",
      "Media calculada: company          2.046512\n",
      "diameter        12.976744\n",
      "topping          5.294574\n",
      "variant          8.155039\n",
      "size             2.868217\n",
      "extra_sauce      0.589147\n",
      "extra_cheese     0.666667\n",
      "dtype: float64\n",
      "Desviación estandar calculada: company         1.429807\n",
      "diameter        3.259964\n",
      "topping         3.192538\n",
      "variant         5.245078\n",
      "size            1.464727\n",
      "extra_sauce     0.491989\n",
      "extra_cheese    0.471405\n",
      "dtype: float64\n",
      "     company  diameter   topping   variant      size  extra_sauce  \\\n",
      "0   -1.43132  2.767900 -1.031961 -0.029559 -1.275472     0.835086   \n",
      "1   -1.43132  2.154397  0.534191 -0.029559 -1.275472     0.835086   \n",
      "2   -1.43132  0.927389 -0.092269 -0.029559  0.772692     0.835086   \n",
      "3   -1.43132  0.313886  1.160652 -0.029559  0.772692     0.835086   \n",
      "4   -1.43132  1.540893 -0.405500 -0.029559 -1.275472     0.835086   \n",
      "..       ...       ...       ...       ...       ...          ...   \n",
      "124  1.36626 -1.373250  1.473883  1.495680  1.455414     0.835086   \n",
      "125  1.36626 -0.299618  1.473883  1.495680  0.089971     0.835086   \n",
      "126  1.36626  0.313886  1.473883  1.495680 -0.592750     0.835086   \n",
      "127  1.36626 -1.373250 -0.718730 -1.554798  1.455414     0.835086   \n",
      "128  1.36626 -0.299618 -0.718730 -1.554798  0.089971    -1.197482   \n",
      "\n",
      "     extra_cheese  \n",
      "0        0.707107  \n",
      "1        0.707107  \n",
      "2        0.707107  \n",
      "3       -1.414214  \n",
      "4       -1.414214  \n",
      "..            ...  \n",
      "124      0.707107  \n",
      "125      0.707107  \n",
      "126      0.707107  \n",
      "127     -1.414214  \n",
      "128     -1.414214  \n",
      "\n",
      "[129 rows x 7 columns]\n"
     ]
    }
   ],
   "source": [
    "# llama featureNormalize con los datos cargados\n",
    "X_norm, mu, sigma = featureNormalize(X)\n",
    "\n",
    "print(X)\n",
    "print('Media calculada:', mu)\n",
    "print('Desviación estandar calculada:', sigma)\n",
    "print(X_norm)"
   ]
  },
  {
   "cell_type": "code",
   "execution_count": 62,
   "metadata": {},
   "outputs": [],
   "source": [
    "# Añade el termino de interseccion a X\n",
    "# (Columna de unos para X0)\n",
    "X = np.concatenate([np.ones((m, 1)), X_norm], axis=1)"
   ]
  },
  {
   "cell_type": "code",
   "execution_count": 63,
   "metadata": {},
   "outputs": [
    {
     "name": "stdout",
     "output_type": "stream",
     "text": [
      "[[ 1.         -1.43132011  2.76790034 ... -1.27547153  0.83508588\n",
      "   0.70710678]\n",
      " [ 1.         -1.43132011  2.15439665 ... -1.27547153  0.83508588\n",
      "   0.70710678]\n",
      " [ 1.         -1.43132011  0.92738929 ...  0.7726923   0.83508588\n",
      "   0.70710678]\n",
      " ...\n",
      " [ 1.          1.3662601   0.31388561 ... -0.59275026  0.83508588\n",
      "   0.70710678]\n",
      " [ 1.          1.3662601  -1.37324952 ...  1.45541357  0.83508588\n",
      "  -1.41421356]\n",
      " [ 1.          1.3662601  -0.29961808 ...  0.08997102 -1.19748163\n",
      "  -1.41421356]]\n"
     ]
    }
   ],
   "source": [
    "print(X)"
   ]
  },
  {
   "cell_type": "code",
   "execution_count": 64,
   "metadata": {},
   "outputs": [],
   "source": [
    "def computeCostMulti(X, y, theta):\n",
    "    # Inicializa algunos valores utiles\n",
    "    m = y.shape[0] # numero de ejemplos de entrenamiento\n",
    "\n",
    "    J = 0\n",
    "\n",
    "    h = np.dot(X, theta)\n",
    "\n",
    "    J = (1/(2 * m)) * np.sum(np.square(np.dot(X, theta) - y))\n",
    "\n",
    "    return J"
   ]
  },
  {
   "cell_type": "code",
   "execution_count": 65,
   "metadata": {},
   "outputs": [],
   "source": [
    "def gradientDescentMulti(X, y, theta, alpha, num_iters):\n",
    "\n",
    "    # Inicializa algunos valores\n",
    "    m = y.shape[0] # numero de ejemplos de entrenamiento\n",
    "\n",
    "    # realiza una copia de theta, el cual será acutalizada por el descenso por el gradiente\n",
    "    theta = theta.copy()\n",
    "\n",
    "    J_history = []\n",
    "\n",
    "    for i in range(num_iters):\n",
    "        theta = theta - (alpha / m) * (np.dot(X, theta) - y).dot(X)\n",
    "        J_history.append(computeCostMulti(X, y, theta))\n",
    "\n",
    "    return theta, J_history"
   ]
  },
  {
   "cell_type": "code",
   "execution_count": 66,
   "metadata": {},
   "outputs": [
    {
     "name": "stdout",
     "output_type": "stream",
     "text": [
      "theta calculado por el descenso por el gradiente: {:s} [ 6.84128227e+01 -7.37881251e+00  2.19078626e+01 -8.69919155e-01\n",
      " -1.44590326e-02 -7.13388840e+00  5.29654643e+00 -1.63570690e+00]\n",
      "El valor predecido (usando el descenso por el gradiente): 139.4362\n"
     ]
    },
    {
     "data": {
      "image/png": "[encoded data removed]",
      "text/plain": [
       "<Figure size 640x480 with 1 Axes>"
      ]
     },
     "metadata": {},
     "output_type": "display_data"
    }
   ],
   "source": [
    "# Elegir algun valor para alpha (probar varias alternativas)\n",
    "alpha = 0.0003\n",
    "num_iters = 5000\n",
    "\n",
    "# inicializa theta y ejecuta el descenso por el gradiente\n",
    "theta = np.zeros(8)\n",
    "theta, J_history = gradientDescentMulti(X, y, theta, alpha, num_iters)\n",
    "\n",
    "# Grafica la convergencia del costo\n",
    "pyplot.plot(np.arange(len(J_history)), J_history, lw=2)\n",
    "pyplot.xlabel('Numero de iteraciones')\n",
    "pyplot.ylabel('Costo J')\n",
    "\n",
    "# Muestra los resultados del descenso por el gradiente\n",
    "print('theta calculado por el descenso por el gradiente: {:s}' ,theta)\n",
    "\n",
    "# Estimar el precio para un vino con distintas caracteristicas\n",
    "X_array = [1, 0, 20, 2, 8, 1, 1, 1]\n",
    "X_array[1:8] = (X_array[1:8] - mu) / sigma\n",
    "price = np.dot(X_array, theta)   # Se debe cambiar esto\n",
    "\n",
    "print('El valor predecido (usando el descenso por el gradiente): {:.4f}'.format(price))"
   ]
  },
  {
   "cell_type": "code",
   "execution_count": 67,
   "metadata": {},
   "outputs": [],
   "source": [
    "# Calcula los parámetros theta usando la ecuación normal\n",
    "X_transpose = np.transpose(X)\n",
    "X_transpose_X = np.dot(X_transpose, X)\n",
    "X_transpose_y = np.dot(X_transpose, y)\n",
    "theta_normal_equation = np.dot(np.linalg.inv(X_transpose_X), X_transpose_y)"
   ]
  },
  {
   "cell_type": "code",
   "execution_count": 68,
   "metadata": {},
   "outputs": [
    {
     "name": "stdout",
     "output_type": "stream",
     "text": [
      "El valor predecido (usando la ecuación normal): 179.3502\n"
     ]
    }
   ],
   "source": [
    "# Estimar el precio para un caso de prueba con características normalizadas\n",
    "X_array = [1, 0, 20, 2, 8, 1, 1, 1]\n",
    "X_array[1:8] = (X_array[1:8] - mu) / sigma  # Normalizar características del caso de prueba\n",
    "price_normal_equation = np.dot(X_array, theta_normal_equation)  # Usar ecuación normal\n",
    "\n",
    "print('El valor predecido (usando la ecuación normal): {:.4f}'.format(price_normal_equation))"
   ]
  }
 ],
 "metadata": {
  "kernelspec": {
   "display_name": "Python 3",
   "language": "python",
   "name": "python3"
  },
  "language_info": {
   "codemirror_mode": {
    "name": "ipython",
    "version": 3
   },
   "file_extension": ".py",
   "mimetype": "text/x-python",
   "name": "python",
   "nbconvert_exporter": "python",
   "pygments_lexer": "ipython3",
   "version": "3.11.5"
  },
  "orig_nbformat": 4
 },
 "nbformat": 4,
 "nbformat_minor": 2
}
