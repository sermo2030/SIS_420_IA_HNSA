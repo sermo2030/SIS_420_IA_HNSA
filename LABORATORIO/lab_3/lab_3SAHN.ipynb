{
 "cells": [
  {
   "cell_type": "code",
   "execution_count": 4,
   "metadata": {},
   "outputs": [],
   "source": [
    "# utilizado para manejos de directorios y rutas\n",
    "import os\n",
    "\n",
    "# Computacion vectorial y cientifica para python\n",
    "import numpy as np\n",
    "\n",
    "# Librerias para graficación (trazado de gráficos)\n",
    "from matplotlib import pyplot\n",
    "from mpl_toolkits.mplot3d import Axes3D  # Necesario para graficar superficies 3D\n",
    "\n",
    "# Modulo de optimización de scipy\n",
    "from scipy import optimize\n",
    "\n",
    "# llama a matplotlib a embeber graficas dentro de los cuadernillos\n",
    "%matplotlib inline"
   ]
  },
  {
   "cell_type": "code",
   "execution_count": 5,
   "metadata": {},
   "outputs": [],
   "source": [
    "import pandas as pd\n",
    "from sklearn.preprocessing import LabelEncoder\n",
    "from datetime import datetime"
   ]
  },
  {
   "cell_type": "code",
   "execution_count": 6,
   "metadata": {},
   "outputs": [],
   "source": [
    "#Carga de dataset\n",
    "data = pd.read_csv('framingham.csv')\n",
    "\n",
    "# Importar libreria para dividir entrenamiento y prueba\n",
    "from sklearn.model_selection import train_test_split"
   ]
  },
  {
   "cell_type": "code",
   "execution_count": 7,
   "metadata": {},
   "outputs": [
    {
     "name": "stdout",
     "output_type": "stream",
     "text": [
      "<class 'pandas.core.frame.DataFrame'>\n",
      "RangeIndex: 4238 entries, 0 to 4237\n",
      "Data columns (total 16 columns):\n",
      " #   Column           Non-Null Count  Dtype  \n",
      "---  ------           --------------  -----  \n",
      " 0   male             4238 non-null   int64  \n",
      " 1   age              4238 non-null   int64  \n",
      " 2   education        4133 non-null   float64\n",
      " 3   currentSmoker    4238 non-null   int64  \n",
      " 4   cigsPerDay       4209 non-null   float64\n",
      " 5   BPMeds           4185 non-null   float64\n",
      " 6   prevalentStroke  4238 non-null   int64  \n",
      " 7   prevalentHyp     4238 non-null   int64  \n",
      " 8   diabetes         4238 non-null   int64  \n",
      " 9   totChol          4188 non-null   float64\n",
      " 10  sysBP            4238 non-null   float64\n",
      " 11  diaBP            4238 non-null   float64\n",
      " 12  BMI              4219 non-null   float64\n",
      " 13  heartRate        4237 non-null   float64\n",
      " 14  glucose          3850 non-null   float64\n",
      " 15  TenYearCHD       4238 non-null   int64  \n",
      "dtypes: float64(9), int64(7)\n",
      "memory usage: 529.9 KB\n"
     ]
    }
   ],
   "source": [
    "data.info()"
   ]
  },
  {
   "cell_type": "code",
   "execution_count": 8,
   "metadata": {},
   "outputs": [],
   "source": [
    "#llenar datos vacios\n",
    "columnas_especificas = ['education', 'cigsPerDay', 'BPMeds', 'totChol', 'BMI', 'heartRate', 'glucose']\n",
    "media_columnas = data[columnas_especificas].mean()\n",
    "data[columnas_especificas] = data[columnas_especificas].fillna(media_columnas)"
   ]
  },
  {
   "cell_type": "code",
   "execution_count": 9,
   "metadata": {},
   "outputs": [
    {
     "name": "stdout",
     "output_type": "stream",
     "text": [
      "<class 'pandas.core.frame.DataFrame'>\n",
      "RangeIndex: 4238 entries, 0 to 4237\n",
      "Data columns (total 16 columns):\n",
      " #   Column           Non-Null Count  Dtype  \n",
      "---  ------           --------------  -----  \n",
      " 0   male             4238 non-null   int64  \n",
      " 1   age              4238 non-null   int64  \n",
      " 2   education        4238 non-null   float64\n",
      " 3   currentSmoker    4238 non-null   int64  \n",
      " 4   cigsPerDay       4238 non-null   float64\n",
      " 5   BPMeds           4238 non-null   float64\n",
      " 6   prevalentStroke  4238 non-null   int64  \n",
      " 7   prevalentHyp     4238 non-null   int64  \n",
      " 8   diabetes         4238 non-null   int64  \n",
      " 9   totChol          4238 non-null   float64\n",
      " 10  sysBP            4238 non-null   float64\n",
      " 11  diaBP            4238 non-null   float64\n",
      " 12  BMI              4238 non-null   float64\n",
      " 13  heartRate        4238 non-null   float64\n",
      " 14  glucose          4238 non-null   float64\n",
      " 15  TenYearCHD       4238 non-null   int64  \n",
      "dtypes: float64(9), int64(7)\n",
      "memory usage: 529.9 KB\n"
     ]
    }
   ],
   "source": [
    "data.info()"
   ]
  },
  {
   "cell_type": "code",
   "execution_count": 10,
   "metadata": {},
   "outputs": [],
   "source": [
    "# Division de dataset en entrenamiento y prueba\n",
    "train_data, test_data = train_test_split(data, test_size=0.2, random_state=42)"
   ]
  },
  {
   "cell_type": "code",
   "execution_count": 11,
   "metadata": {},
   "outputs": [
    {
     "name": "stdout",
     "output_type": "stream",
     "text": [
      "<class 'pandas.core.frame.DataFrame'>\n",
      "Index: 3390 entries, 3252 to 860\n",
      "Data columns (total 16 columns):\n",
      " #   Column           Non-Null Count  Dtype  \n",
      "---  ------           --------------  -----  \n",
      " 0   male             3390 non-null   int64  \n",
      " 1   age              3390 non-null   int64  \n",
      " 2   education        3390 non-null   float64\n",
      " 3   currentSmoker    3390 non-null   int64  \n",
      " 4   cigsPerDay       3390 non-null   float64\n",
      " 5   BPMeds           3390 non-null   float64\n",
      " 6   prevalentStroke  3390 non-null   int64  \n",
      " 7   prevalentHyp     3390 non-null   int64  \n",
      " 8   diabetes         3390 non-null   int64  \n",
      " 9   totChol          3390 non-null   float64\n",
      " 10  sysBP            3390 non-null   float64\n",
      " 11  diaBP            3390 non-null   float64\n",
      " 12  BMI              3390 non-null   float64\n",
      " 13  heartRate        3390 non-null   float64\n",
      " 14  glucose          3390 non-null   float64\n",
      " 15  TenYearCHD       3390 non-null   int64  \n",
      "dtypes: float64(9), int64(7)\n",
      "memory usage: 450.2 KB\n",
      "<class 'pandas.core.frame.DataFrame'>\n",
      "Index: 848 entries, 3188 to 2540\n",
      "Data columns (total 16 columns):\n",
      " #   Column           Non-Null Count  Dtype  \n",
      "---  ------           --------------  -----  \n",
      " 0   male             848 non-null    int64  \n",
      " 1   age              848 non-null    int64  \n",
      " 2   education        848 non-null    float64\n",
      " 3   currentSmoker    848 non-null    int64  \n",
      " 4   cigsPerDay       848 non-null    float64\n",
      " 5   BPMeds           848 non-null    float64\n",
      " 6   prevalentStroke  848 non-null    int64  \n",
      " 7   prevalentHyp     848 non-null    int64  \n",
      " 8   diabetes         848 non-null    int64  \n",
      " 9   totChol          848 non-null    float64\n",
      " 10  sysBP            848 non-null    float64\n",
      " 11  diaBP            848 non-null    float64\n",
      " 12  BMI              848 non-null    float64\n",
      " 13  heartRate        848 non-null    float64\n",
      " 14  glucose          848 non-null    float64\n",
      " 15  TenYearCHD       848 non-null    int64  \n",
      "dtypes: float64(9), int64(7)\n",
      "memory usage: 112.6 KB\n"
     ]
    }
   ],
   "source": [
    "# informacion de los nuevos datasets\n",
    "train_data.info()\n",
    "test_data.info()\n",
    "\n",
    "#exportar nuevos datasets\n",
    "train_data.to_csv(\"train.csv\", index=False)\n",
    "test_data.to_csv(\"test.csv\", index=False)"
   ]
  },
  {
   "cell_type": "code",
   "execution_count": 12,
   "metadata": {},
   "outputs": [],
   "source": [
    "#Carga de dataset\n",
    "data = pd.read_csv('train.csv')"
   ]
  },
  {
   "cell_type": "code",
   "execution_count": 13,
   "metadata": {},
   "outputs": [
    {
     "name": "stdout",
     "output_type": "stream",
     "text": [
      "      male  age  education  currentSmoker  cigsPerDay  BPMeds  \\\n",
      "0        1   40        4.0              1        30.0     0.0   \n",
      "1        0   57        2.0              0         0.0     0.0   \n",
      "2        0   47        1.0              0         0.0     0.0   \n",
      "3        1   41        2.0              1        30.0     0.0   \n",
      "4        0   64        1.0              0         0.0     0.0   \n",
      "...    ...  ...        ...            ...         ...     ...   \n",
      "3385     0   36        1.0              1         5.0     0.0   \n",
      "3386     0   57        3.0              1        15.0     0.0   \n",
      "3387     0   60        2.0              0         0.0     0.0   \n",
      "3388     1   39        2.0              1        10.0     0.0   \n",
      "3389     0   35        2.0              0         0.0     0.0   \n",
      "\n",
      "      prevalentStroke  prevalentHyp  diabetes  totChol  sysBP  diaBP    BMI  \\\n",
      "0                   0             0         0    205.0  131.0   81.0  23.74   \n",
      "1                   0             1         0    250.0  152.5   92.5  32.31   \n",
      "2                   0             0         0    230.0  123.0   71.0  26.98   \n",
      "3                   0             0         0    228.0  113.0   82.5  25.67   \n",
      "4                   0             1         0    232.0  149.5   84.0  20.49   \n",
      "...               ...           ...       ...      ...    ...    ...    ...   \n",
      "3385                0             1         0    222.0  147.0   94.0  26.79   \n",
      "3386                0             0         0    250.0  125.0   74.0  21.08   \n",
      "3387                0             1         0    298.0  133.0   89.0  25.09   \n",
      "3388                0             0         0    215.0  102.0   64.5  24.50   \n",
      "3389                0             0         0    248.0  107.0   73.0  20.64   \n",
      "\n",
      "      heartRate  glucose  \n",
      "0          66.0     87.0  \n",
      "1          75.0     94.0  \n",
      "2          83.0     73.0  \n",
      "3          67.0     70.0  \n",
      "4          68.0     96.0  \n",
      "...         ...      ...  \n",
      "3385       76.0     71.0  \n",
      "3386       80.0     72.0  \n",
      "3387       83.0     81.0  \n",
      "3388       68.0     62.0  \n",
      "3389       90.0     80.0  \n",
      "\n",
      "[3390 rows x 15 columns]\n",
      "*************************\n",
      "0       0\n",
      "1       0\n",
      "2       0\n",
      "3       0\n",
      "4       0\n",
      "       ..\n",
      "3385    0\n",
      "3386    0\n",
      "3387    0\n",
      "3388    0\n",
      "3389    0\n",
      "Name: TenYearCHD, Length: 3390, dtype: int64\n"
     ]
    }
   ],
   "source": [
    "# Lectura de Datos\n",
    "X = data.iloc[:, :15]\n",
    "y = data.iloc[:, 15]\n",
    "m = y.size\n",
    "\n",
    "print(X)\n",
    "print('*'*25)\n",
    "print(y)"
   ]
  },
  {
   "cell_type": "code",
   "execution_count": 14,
   "metadata": {},
   "outputs": [],
   "source": [
    "def  featureNormalize(X):\n",
    "    X_norm = X.copy()\n",
    "    mu = np.zeros(X.shape[1])\n",
    "    sigma = np.zeros(X.shape[1])\n",
    "\n",
    "    mu = np.mean(X, axis = 0)\n",
    "    sigma = np.std(X, axis = 0)\n",
    "    X_norm = (X - mu) / sigma\n",
    "\n",
    "    return X_norm, mu, sigma"
   ]
  },
  {
   "cell_type": "code",
   "execution_count": 15,
   "metadata": {},
   "outputs": [
    {
     "name": "stdout",
     "output_type": "stream",
     "text": [
      "      male  age  education  currentSmoker  cigsPerDay  BPMeds  \\\n",
      "0        1   40        4.0              1        30.0     0.0   \n",
      "1        0   57        2.0              0         0.0     0.0   \n",
      "2        0   47        1.0              0         0.0     0.0   \n",
      "3        1   41        2.0              1        30.0     0.0   \n",
      "4        0   64        1.0              0         0.0     0.0   \n",
      "...    ...  ...        ...            ...         ...     ...   \n",
      "3385     0   36        1.0              1         5.0     0.0   \n",
      "3386     0   57        3.0              1        15.0     0.0   \n",
      "3387     0   60        2.0              0         0.0     0.0   \n",
      "3388     1   39        2.0              1        10.0     0.0   \n",
      "3389     0   35        2.0              0         0.0     0.0   \n",
      "\n",
      "      prevalentStroke  prevalentHyp  diabetes  totChol  sysBP  diaBP    BMI  \\\n",
      "0                   0             0         0    205.0  131.0   81.0  23.74   \n",
      "1                   0             1         0    250.0  152.5   92.5  32.31   \n",
      "2                   0             0         0    230.0  123.0   71.0  26.98   \n",
      "3                   0             0         0    228.0  113.0   82.5  25.67   \n",
      "4                   0             1         0    232.0  149.5   84.0  20.49   \n",
      "...               ...           ...       ...      ...    ...    ...    ...   \n",
      "3385                0             1         0    222.0  147.0   94.0  26.79   \n",
      "3386                0             0         0    250.0  125.0   74.0  21.08   \n",
      "3387                0             1         0    298.0  133.0   89.0  25.09   \n",
      "3388                0             0         0    215.0  102.0   64.5  24.50   \n",
      "3389                0             0         0    248.0  107.0   73.0  20.64   \n",
      "\n",
      "      heartRate  glucose  \n",
      "0          66.0     87.0  \n",
      "1          75.0     94.0  \n",
      "2          83.0     73.0  \n",
      "3          67.0     70.0  \n",
      "4          68.0     96.0  \n",
      "...         ...      ...  \n",
      "3385       76.0     71.0  \n",
      "3386       80.0     72.0  \n",
      "3387       83.0     81.0  \n",
      "3388       68.0     62.0  \n",
      "3389       90.0     80.0  \n",
      "\n",
      "[3390 rows x 15 columns]\n",
      "Media calculada: male                 0.422714\n",
      "age                 49.522124\n",
      "education            1.970250\n",
      "currentSmoker        0.499115\n",
      "cigsPerDay           9.058134\n",
      "BPMeds               0.029623\n",
      "prevalentStroke      0.006195\n",
      "prevalentHyp         0.313274\n",
      "diabetes             0.025074\n",
      "totChol            236.874722\n",
      "sysBP              132.389823\n",
      "diaBP               82.985251\n",
      "BMI                 25.838421\n",
      "heartRate           75.995540\n",
      "glucose             81.996036\n",
      "dtype: float64\n",
      "Desviación estandar calculada: male                0.493991\n",
      "age                 8.575912\n",
      "education           1.001480\n",
      "currentSmoker       0.499999\n",
      "cigsPerDay         11.881116\n",
      "BPMeds              0.168340\n",
      "prevalentStroke     0.078462\n",
      "prevalentHyp        0.463825\n",
      "diabetes            0.156349\n",
      "totChol            44.477050\n",
      "sysBP              22.116420\n",
      "diaBP              11.965015\n",
      "BMI                 4.106652\n",
      "heartRate          11.930761\n",
      "glucose            22.617398\n",
      "dtype: float64\n",
      "          male       age  education  currentSmoker  cigsPerDay    BPMeds  \\\n",
      "0     1.168617 -1.110334   2.026751       1.001771    1.762618 -0.175971   \n",
      "1    -0.855712  0.871963   0.029706      -0.998232   -0.762398 -0.175971   \n",
      "2    -0.855712 -0.294094  -0.968817      -0.998232   -0.762398 -0.175971   \n",
      "3     1.168617 -0.993728   0.029706       1.001771    1.762618 -0.175971   \n",
      "4    -0.855712  1.688203  -0.968817      -0.998232   -0.762398 -0.175971   \n",
      "...        ...       ...        ...            ...         ...       ...   \n",
      "3385 -0.855712 -1.576756  -0.968817       1.001771   -0.341562 -0.175971   \n",
      "3386 -0.855712  0.871963   1.028229       1.001771    0.500110 -0.175971   \n",
      "3387 -0.855712  1.221780   0.029706      -0.998232   -0.762398 -0.175971   \n",
      "3388  1.168617 -1.226939   0.029706       1.001771    0.079274 -0.175971   \n",
      "3389 -0.855712 -1.693362   0.029706      -0.998232   -0.762398 -0.175971   \n",
      "\n",
      "      prevalentStroke  prevalentHyp  diabetes   totChol     sysBP     diaBP  \\\n",
      "0           -0.078951     -0.675415  -0.16037 -0.716655 -0.062841 -0.165921   \n",
      "1           -0.078951      1.480571  -0.16037  0.295102  0.909287  0.795214   \n",
      "2           -0.078951     -0.675415  -0.16037 -0.154568 -0.424563 -1.001691   \n",
      "3           -0.078951     -0.675415  -0.16037 -0.199535 -0.876716 -0.040556   \n",
      "4           -0.078951      1.480571  -0.16037 -0.109601  0.773641  0.084810   \n",
      "...               ...           ...       ...       ...       ...       ...   \n",
      "3385        -0.078951      1.480571  -0.16037 -0.334436  0.660603  0.920580   \n",
      "3386        -0.078951     -0.675415  -0.16037  0.295102 -0.334133 -0.750960   \n",
      "3387        -0.078951      1.480571  -0.16037  1.374311  0.027589  0.502695   \n",
      "3388        -0.078951     -0.675415  -0.16037 -0.491820 -1.374084 -1.544942   \n",
      "3389        -0.078951     -0.675415  -0.16037  0.250135 -1.148008 -0.834537   \n",
      "\n",
      "           BMI  heartRate   glucose  \n",
      "0    -0.510981  -0.837796  0.221244  \n",
      "1     1.575877  -0.083443  0.530740  \n",
      "2     0.277983   0.587093 -0.397748  \n",
      "3    -0.041012  -0.753979 -0.530390  \n",
      "4    -1.302380  -0.670162  0.619168  \n",
      "...        ...        ...       ...  \n",
      "3385  0.231716   0.000374 -0.486176  \n",
      "3386 -1.158711   0.335642 -0.441962  \n",
      "3387 -0.182246   0.587093 -0.044038  \n",
      "3388 -0.325915  -0.670162 -0.884100  \n",
      "3389 -1.265854   1.173811 -0.088252  \n",
      "\n",
      "[3390 rows x 15 columns]\n"
     ]
    }
   ],
   "source": [
    "# llama featureNormalize con los datos cargados\n",
    "X_norm, mu, sigma = featureNormalize(X)\n",
    "\n",
    "print(X)\n",
    "print('Media calculada:', mu)\n",
    "print('Desviación estandar calculada:', sigma)\n",
    "print(X_norm)"
   ]
  },
  {
   "cell_type": "code",
   "execution_count": 16,
   "metadata": {},
   "outputs": [],
   "source": [
    "def sigmoid(z):\n",
    "    # Calcula la sigmoide de una entrada z\n",
    "    # convierte la intrada a un arreglo numpy\n",
    "    z = np.array(z)\n",
    "\n",
    "    g = np.zeros(z.shape)\n",
    "\n",
    "    g = 1 / (1 + np.exp(-z))\n",
    "\n",
    "    return g"
   ]
  },
  {
   "cell_type": "code",
   "execution_count": 17,
   "metadata": {},
   "outputs": [
    {
     "name": "stdout",
     "output_type": "stream",
     "text": [
      "g( 0 ) =  0.5\n"
     ]
    }
   ],
   "source": [
    "# Prueba la implementacion de la funcion sigmoid\n",
    "z = 0\n",
    "g = sigmoid(z)\n",
    "\n",
    "print('g(', z, ') = ', g)"
   ]
  },
  {
   "cell_type": "code",
   "execution_count": 18,
   "metadata": {},
   "outputs": [
    {
     "name": "stdout",
     "output_type": "stream",
     "text": [
      "[  1.     1.    39.     1.     1.    20.     0.     0.     1.     0.\n",
      " 222.   141.5   91.    27.06  63.    73.  ]\n"
     ]
    }
   ],
   "source": [
    "# Configurar la matriz adecuadamente, y agregar una columna de unos que corresponde al termino de intercepción.\n",
    "m, n = X.shape\n",
    "# Agraga el termino de intercepción a A\n",
    "X = np.concatenate([np.ones((m, 1)), X], axis=1)\n",
    "\n",
    "print(X[5])"
   ]
  },
  {
   "cell_type": "code",
   "execution_count": 19,
   "metadata": {},
   "outputs": [],
   "source": [
    "def calcularCosto(theta, X, y):\n",
    "    # Inicializar algunos valores utiles\n",
    "    m = y.size  # numero de ejemplos de entrenamiento\n",
    "\n",
    "    J = 0\n",
    "    h = sigmoid(X.dot(theta.T))\n",
    "    J = (1 / m) * np.sum(-y.dot(np.log(h)) - (1 - y).dot(np.log(1 - h)))\n",
    "\n",
    "    return J"
   ]
  },
  {
   "cell_type": "code",
   "execution_count": 20,
   "metadata": {},
   "outputs": [],
   "source": [
    "def descensoGradiente(theta, X, y, alpha, num_iters):\n",
    "    # Inicializa algunos valores\n",
    "    m = y.shape[0] # numero de ejemplos de entrenamiento\n",
    "\n",
    "    # realiza una copia de theta, el cual será acutalizada por el descenso por el gradiente\n",
    "    theta = theta.copy()\n",
    "    J_history = []\n",
    "\n",
    "    for i in range(num_iters):\n",
    "        h = sigmoid(X.dot(theta.T))\n",
    "        theta = theta - (alpha / m) * (h - y).dot(X)\n",
    "\n",
    "        J_history.append(calcularCosto(theta, X, y))\n",
    "    return theta, J_history"
   ]
  },
  {
   "cell_type": "code",
   "execution_count": 22,
   "metadata": {},
   "outputs": [],
   "source": [
    "#Carga de dataset\n",
    "data_test = pd.read_csv('test.csv')\n",
    "#print(data)"
   ]
  },
  {
   "cell_type": "code",
   "execution_count": 23,
   "metadata": {},
   "outputs": [
    {
     "name": "stdout",
     "output_type": "stream",
     "text": [
      "[  0.    56.     1.     1.     9.     1.     0.     1.     0.   285.\n",
      " 165.   115.    24.25  72.   116.     0.  ]\n"
     ]
    }
   ],
   "source": [
    "#seleccionando fila\n",
    "fila_deseada = 100\n",
    "\n",
    "if fila_deseada < len(data_test):\n",
    "  fila_completa = data.iloc[fila_deseada].to_numpy()\n",
    "  print(fila_completa)\n",
    "else:\n",
    "  print(\"La fila no existe\")"
   ]
  },
  {
   "cell_type": "code",
   "execution_count": 26,
   "metadata": {},
   "outputs": [
    {
     "name": "stdout",
     "output_type": "stream",
     "text": [
      "theta calculado por el descenso por el gradiente: [-0.00786062  0.00638945  0.02848923 -0.02314885 -0.00522928  0.01739513\n",
      "  0.00354316  0.00131257  0.01888957  0.00313357 -0.00414236  0.02415504\n",
      " -0.02312895 -0.05326201 -0.03439271  0.00459272]\n",
      "(usando el descenso por el gradiente):0.20557691325208916\n",
      "Las posibilidades son muy bajas\n"
     ]
    },
    {
     "data": {
      "image/png": "[encoded data removed]",
      "text/plain": [
       "<Figure size 640x480 with 1 Axes>"
      ]
     },
     "metadata": {},
     "output_type": "display_data"
    }
   ],
   "source": [
    "# Elegir algun valor para alpha (probar varias alternativas)\n",
    "alpha = 0.0001\n",
    "num_iters = 10000\n",
    "\n",
    "# inicializa theta y ejecuta el descenso por el gradiente\n",
    "theta = np.zeros(16)\n",
    "theta, J_history = descensoGradiente(theta, X, y, alpha, num_iters)\n",
    "\n",
    "# Grafica la convergencia del costo\n",
    "pyplot.plot(np.arange(len(J_history)), J_history, lw=2)\n",
    "pyplot.xlabel('Numero de iteraciones')\n",
    "pyplot.ylabel('Costo J')\n",
    "\n",
    "# Muestra los resultados del descenso por el gradiente\n",
    "print('theta calculado por el descenso por el gradiente: {:s}'.format(str(theta)))\n",
    "\n",
    "# verificar si ingresa o no a la universidad\n",
    "X_array = [1,0.,56.,1.,1.,9.,1.,0.,1.,0.,285.,165.,115.,24.25,72.,116.]\n",
    "\n",
    "aprueba = sigmoid(np.dot(X_array, theta))   # Se debe cambiar esto\n",
    "\n",
    "print(f\"(usando el descenso por el gradiente):{aprueba}\")\n",
    "\n",
    "if aprueba > 0.5: print('Existe mas del 50% de probabilidad')\n",
    "else: print('Las posibilidades son muy bajas')"
   ]
  }
 ],
 "metadata": {
  "kernelspec": {
   "display_name": "Python 3",
   "language": "python",
   "name": "python3"
  },
  "language_info": {
   "codemirror_mode": {
    "name": "ipython",
    "version": 3
   },
   "file_extension": ".py",
   "mimetype": "text/x-python",
   "name": "python",
   "nbconvert_exporter": "python",
   "pygments_lexer": "ipython3",
   "version": "3.11.5"
  },
  "orig_nbformat": 4
 },
 "nbformat": 4,
 "nbformat_minor": 2
}
