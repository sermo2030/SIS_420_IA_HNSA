{
  "cells": [
    {
      "cell_type": "code",
      "execution_count": 22,
      "metadata": {
        "id": "5Kw6V8_WIRT3"
      },
      "outputs": [],
      "source": [
        "# utilizado para manejos de directorios y rutas\n",
        "import os\n",
        "\n",
        "# Computacion vectorial y cientifica para python\n",
        "import numpy as np\n",
        "\n",
        "# Librerias para graficación (trazado de gráficos)\n",
        "from matplotlib import pyplot\n",
        "from mpl_toolkits.mplot3d import Axes3D  # Necesario para graficar superficies 3D\n",
        "\n",
        "# llama a matplotlib a embeber graficas dentro de los cuadernillos\n",
        "%matplotlib inline"
      ]
    },
    {
      "cell_type": "code",
      "execution_count": 23,
      "metadata": {
        "id": "EDQIcw0hIXBd"
      },
      "outputs": [],
      "source": [
        "import pandas as pd\n",
        "from sklearn.preprocessing import LabelEncoder\n",
        "from datetime import datetime"
      ]
    },
    {
      "cell_type": "code",
      "execution_count": 24,
      "metadata": {
        "id": "6J1Iz_jkIa8u"
      },
      "outputs": [],
      "source": [
        "#Carga de dataset\n",
        "data = pd.read_csv('White.csv')"
      ]
    },
    {
      "cell_type": "code",
      "execution_count": 25,
      "metadata": {
        "colab": {
          "base_uri": "https://localhost:8080/"
        },
        "id": "m3PKMYSIIpI4",
        "outputId": "ba9ba1c3-9819-42ee-ecbe-093544420e63"
      },
      "outputs": [
        {
          "name": "stdout",
          "output_type": "stream",
          "text": [
            "                         Name      Country                      Region  \\\n",
            "0             Vermentino 2017        Italy                     Toscana   \n",
            "1           Ronco Broilo 2010        Italy  Colli Orientali del Friuli   \n",
            "2     Weisser Schiefer s 2017      Austria               Südburgenland   \n",
            "3             Chardonnay 2018      Germany                 Rheinhessen   \n",
            "4        Maganza Zibibbo 2018        Italy             Terre Siciliane   \n",
            "...                       ...          ...                         ...   \n",
            "3759     Sauvignon Blanc 2019  New Zealand                 Marlborough   \n",
            "3760   Vinho Verde Sweet N.V.     Portugal                 Vinho Verde   \n",
            "3761     Sauvignon Blanc 2018  New Zealand                 Marlborough   \n",
            "3762     Sauvignon Blanc 2019  New Zealand                 Marlborough   \n",
            "3763  Vinho Verde Branco N.V.     Portugal                 Vinho Verde   \n",
            "\n",
            "                       Winery  Rating  NumberOfRatings  Price  Year  \n",
            "0         Famiglia Castellani     3.8               25   5.65  2017  \n",
            "1     Conte d'Attimis Maniago     4.3               25  44.90  2010  \n",
            "2        Weinbau Uwe Schiefer     4.2               25  33.25  2017  \n",
            "3           Krämer - Straight     3.9               25   8.99  2018  \n",
            "4                   Luna Gaia     3.9               25   8.60  2018  \n",
            "...                       ...     ...              ...    ...   ...  \n",
            "3759               Oyster Bay     4.0             4423  10.66  2019  \n",
            "3760             Casal Garcia     4.0             4609   5.05  N.V.  \n",
            "3761             Kim Crawford     3.9             5105  14.90  2018  \n",
            "3762               Hans Greyl     4.2             5817   7.75  2019  \n",
            "3763             Casal Garcia     3.7            62980   4.35  N.V.  \n",
            "\n",
            "[3764 rows x 8 columns]\n"
          ]
        }
      ],
      "source": [
        "print(data)"
      ]
    },
    {
      "cell_type": "code",
      "execution_count": 26,
      "metadata": {
        "colab": {
          "base_uri": "https://localhost:8080/"
        },
        "id": "nq5aqvEAI0eI",
        "outputId": "002c2399-61ae-4d54-c0da-3e8f5a2342e9"
      },
      "outputs": [
        {
          "name": "stdout",
          "output_type": "stream",
          "text": [
            "<class 'pandas.core.frame.DataFrame'>\n",
            "RangeIndex: 3764 entries, 0 to 3763\n",
            "Data columns (total 8 columns):\n",
            " #   Column           Non-Null Count  Dtype  \n",
            "---  ------           --------------  -----  \n",
            " 0   Name             3764 non-null   object \n",
            " 1   Country          3764 non-null   object \n",
            " 2   Region           3764 non-null   object \n",
            " 3   Winery           3764 non-null   object \n",
            " 4   Rating           3764 non-null   float64\n",
            " 5   NumberOfRatings  3764 non-null   int64  \n",
            " 6   Price            3764 non-null   float64\n",
            " 7   Year             3764 non-null   object \n",
            "dtypes: float64(2), int64(1), object(5)\n",
            "memory usage: 235.4+ KB\n"
          ]
        }
      ],
      "source": [
        "data.info()"
      ]
    },
    {
      "cell_type": "code",
      "execution_count": 27,
      "metadata": {
        "id": "Jnu6Nr9ku_PM"
      },
      "outputs": [],
      "source": [
        "# Lista con el nuevo orden de las columnas\n",
        "nuevo_orden_columnas = ['Name', 'Country', 'Region', 'Winery', 'Rating', 'NumberOfRatings', 'Year', 'Price']  # Agrega las demás columnas\n",
        "\n",
        "# Reordena las columnas del DataFrame según el nuevo orden\n",
        "data = data[nuevo_orden_columnas]"
      ]
    },
    {
      "cell_type": "code",
      "execution_count": 28,
      "metadata": {
        "colab": {
          "base_uri": "https://localhost:8080/"
        },
        "id": "lq28-4PFwDqv",
        "outputId": "1936262e-2a18-4017-dc88-af6b4e5926e2"
      },
      "outputs": [
        {
          "name": "stdout",
          "output_type": "stream",
          "text": [
            "<class 'pandas.core.frame.DataFrame'>\n",
            "RangeIndex: 3764 entries, 0 to 3763\n",
            "Data columns (total 8 columns):\n",
            " #   Column           Non-Null Count  Dtype  \n",
            "---  ------           --------------  -----  \n",
            " 0   Name             3764 non-null   object \n",
            " 1   Country          3764 non-null   object \n",
            " 2   Region           3764 non-null   object \n",
            " 3   Winery           3764 non-null   object \n",
            " 4   Rating           3764 non-null   float64\n",
            " 5   NumberOfRatings  3764 non-null   int64  \n",
            " 6   Year             3764 non-null   object \n",
            " 7   Price            3764 non-null   float64\n",
            "dtypes: float64(2), int64(1), object(5)\n",
            "memory usage: 235.4+ KB\n"
          ]
        }
      ],
      "source": [
        "data.info()"
      ]
    },
    {
      "cell_type": "code",
      "execution_count": 29,
      "metadata": {
        "id": "PfUeDx47n0yO"
      },
      "outputs": [],
      "source": [
        "#variables categoricas\n",
        "columnas_categoricas = data.select_dtypes(include=['object']).columns\n",
        "#variables fechas\n",
        "columnas_fechas = data.select_dtypes(include=['datetime64']).columns"
      ]
    },
    {
      "cell_type": "code",
      "execution_count": 30,
      "metadata": {
        "id": "XEiRSArnoKSC"
      },
      "outputs": [],
      "source": [
        "#Procesamiento de frases o palabras\n",
        "for columna in columnas_categoricas:\n",
        "  le = LabelEncoder()\n",
        "  data[columna] = le.fit_transform(data[columna])"
      ]
    },
    {
      "cell_type": "code",
      "execution_count": 31,
      "metadata": {
        "id": "uCyQButWoL5f"
      },
      "outputs": [],
      "source": [
        "#Fechas a numeros aunque no se utiliza en este caso\n",
        "for columna in columnas_fechas:\n",
        "  data[columna] = pd.to_numeric(data[columna].map(datetime.timestamp))"
      ]
    },
    {
      "cell_type": "code",
      "execution_count": 32,
      "metadata": {
        "colab": {
          "base_uri": "https://localhost:8080/"
        },
        "id": "UcxmajD_oTRK",
        "outputId": "d9fbc017-b096-4178-9823-a674b3915cbb"
      },
      "outputs": [
        {
          "name": "stdout",
          "output_type": "stream",
          "text": [
            "      Name  Country  Region  Winery  Rating  NumberOfRatings  Year  Price\n",
            "0     2762       15     389     521     3.8               25    17   5.65\n",
            "1     2212       15     104     325     4.3               25    10  44.90\n",
            "2     2957        2     374    1345     4.2               25    17  33.25\n",
            "3      439       11     309     736     3.9               25    18   8.99\n",
            "4     1564       15     382     818     3.9               25    18   8.60\n",
            "...    ...      ...     ...     ...     ...              ...   ...    ...\n",
            "3759  2357       19     221     965     4.0             4423    19  10.66\n",
            "3760  2837       20     427     215     4.0             4609    21   5.05\n",
            "3761  2356       19     221     717     3.9             5105    18  14.90\n",
            "3762  2357       19     221     632     4.2             5817    19   7.75\n",
            "3763  2833       20     427     215     3.7            62980    21   4.35\n",
            "\n",
            "[3764 rows x 8 columns]\n"
          ]
        }
      ],
      "source": [
        "#resultado con objetos convertidos\n",
        "print(data)"
      ]
    },
    {
      "cell_type": "code",
      "execution_count": 33,
      "metadata": {
        "colab": {
          "base_uri": "https://localhost:8080/"
        },
        "id": "fp9EfR5XoW49",
        "outputId": "f1a315bc-f2ca-48ee-97d6-340a99c39b2e"
      },
      "outputs": [
        {
          "name": "stdout",
          "output_type": "stream",
          "text": [
            "<class 'pandas.core.frame.DataFrame'>\n",
            "RangeIndex: 3764 entries, 0 to 3763\n",
            "Data columns (total 8 columns):\n",
            " #   Column           Non-Null Count  Dtype  \n",
            "---  ------           --------------  -----  \n",
            " 0   Name             3764 non-null   int32  \n",
            " 1   Country          3764 non-null   int32  \n",
            " 2   Region           3764 non-null   int32  \n",
            " 3   Winery           3764 non-null   int32  \n",
            " 4   Rating           3764 non-null   float64\n",
            " 5   NumberOfRatings  3764 non-null   int64  \n",
            " 6   Year             3764 non-null   int32  \n",
            " 7   Price            3764 non-null   float64\n",
            "dtypes: float64(2), int32(5), int64(1)\n",
            "memory usage: 161.9 KB\n"
          ]
        }
      ],
      "source": [
        "data.info()"
      ]
    },
    {
      "cell_type": "code",
      "execution_count": 34,
      "metadata": {
        "id": "nW7TJ-FXomz2"
      },
      "outputs": [],
      "source": [
        "# Lectura de Datos\n",
        "# y es la sexta columna ya que es la columna de precios\n",
        "X = data.iloc[:, :7]\n",
        "y = data.iloc[:, 7]\n",
        "m = y.size"
      ]
    },
    {
      "cell_type": "code",
      "execution_count": 35,
      "metadata": {
        "colab": {
          "base_uri": "https://localhost:8080/"
        },
        "id": "Z5lD1PkjovH7",
        "outputId": "df01681c-ccb1-4248-dc78-6ac7596de643"
      },
      "outputs": [
        {
          "name": "stdout",
          "output_type": "stream",
          "text": [
            "      Name  Country  Region  Winery  Rating  NumberOfRatings  Year\n",
            "0     2762       15     389     521     3.8               25    17\n",
            "1     2212       15     104     325     4.3               25    10\n",
            "2     2957        2     374    1345     4.2               25    17\n",
            "3      439       11     309     736     3.9               25    18\n",
            "4     1564       15     382     818     3.9               25    18\n",
            "...    ...      ...     ...     ...     ...              ...   ...\n",
            "3759  2357       19     221     965     4.0             4423    19\n",
            "3760  2837       20     427     215     4.0             4609    21\n",
            "3761  2356       19     221     717     3.9             5105    18\n",
            "3762  2357       19     221     632     4.2             5817    19\n",
            "3763  2833       20     427     215     3.7            62980    21\n",
            "\n",
            "[3764 rows x 7 columns]\n",
            "*************************\n",
            "0        5.65\n",
            "1       44.90\n",
            "2       33.25\n",
            "3        8.99\n",
            "4        8.60\n",
            "        ...  \n",
            "3759    10.66\n",
            "3760     5.05\n",
            "3761    14.90\n",
            "3762     7.75\n",
            "3763     4.35\n",
            "Name: Price, Length: 3764, dtype: float64\n"
          ]
        }
      ],
      "source": [
        "print(X)\n",
        "print('*'*25)\n",
        "print(y)"
      ]
    },
    {
      "cell_type": "code",
      "execution_count": 36,
      "metadata": {
        "id": "iZXAQMlIpDnf"
      },
      "outputs": [],
      "source": [
        "def  featureNormalize(X):\n",
        "    X_norm = X.copy()\n",
        "    mu = np.zeros(X.shape[1])\n",
        "    sigma = np.zeros(X.shape[1])\n",
        "\n",
        "    mu = np.mean(X, axis = 0)\n",
        "    sigma = np.std(X, axis = 0)\n",
        "    X_norm = (X - mu) / sigma\n",
        "\n",
        "    return X_norm, mu, sigma"
      ]
    },
    {
      "cell_type": "code",
      "execution_count": 37,
      "metadata": {
        "colab": {
          "base_uri": "https://localhost:8080/"
        },
        "id": "tXVAZ0XBpFCi",
        "outputId": "551453e5-70d7-41b0-86fc-3ec2286be3f9"
      },
      "outputs": [
        {
          "name": "stdout",
          "output_type": "stream",
          "text": [
            "      Name  Country  Region  Winery  Rating  NumberOfRatings  Year\n",
            "0     2762       15     389     521     3.8               25    17\n",
            "1     2212       15     104     325     4.3               25    10\n",
            "2     2957        2     374    1345     4.2               25    17\n",
            "3      439       11     309     736     3.9               25    18\n",
            "4     1564       15     382     818     3.9               25    18\n",
            "...    ...      ...     ...     ...     ...              ...   ...\n",
            "3759  2357       19     221     965     4.0             4423    19\n",
            "3760  2837       20     427     215     4.0             4609    21\n",
            "3761  2356       19     221     717     3.9             5105    18\n",
            "3762  2357       19     221     632     4.2             5817    19\n",
            "3763  2833       20     427     215     3.7            62980    21\n",
            "\n",
            "[3764 rows x 7 columns]\n",
            "Media calculada: Name               1519.124867\n",
            "Country              13.535600\n",
            "Region              255.731934\n",
            "Winery              749.134431\n",
            "Rating                3.817906\n",
            "NumberOfRatings     187.567216\n",
            "Year                 17.164453\n",
            "dtype: float64\n",
            "Desviación estandar calculada: Name                885.764759\n",
            "Country               7.052675\n",
            "Region              122.508043\n",
            "Winery              401.219879\n",
            "Rating                0.266792\n",
            "NumberOfRatings    1071.328100\n",
            "Year                  1.803380\n",
            "dtype: float64\n",
            "          Name   Country    Region    Winery    Rating  NumberOfRatings  \\\n",
            "0     1.403166  0.207637  1.087831 -0.568602 -0.067118        -0.151744   \n",
            "1     0.782234  0.207637 -1.238547 -1.057112  1.807004        -0.151744   \n",
            "2     1.623315 -1.635635  0.965390  1.485135  1.432180        -0.151744   \n",
            "3    -1.219426 -0.359523  0.434813 -0.032736  0.307707        -0.151744   \n",
            "4     0.050663  0.207637  1.030692  0.171640  0.307707        -0.151744   \n",
            "...        ...       ...       ...       ...       ...              ...   \n",
            "3759  0.945934  0.774798 -0.283507  0.538023  0.682531         3.953441   \n",
            "3760  1.487839  0.916588  1.398015 -1.331276  0.682531         4.127058   \n",
            "3761  0.944805  0.774798 -0.283507 -0.080092  0.307707         4.590034   \n",
            "3762  0.945934  0.774798 -0.283507 -0.291946  1.432180         5.254630   \n",
            "3763  1.483323  0.916588  1.398015 -1.331276 -0.441942        58.611767   \n",
            "\n",
            "          Year  \n",
            "0    -0.091191  \n",
            "1    -3.972791  \n",
            "2    -0.091191  \n",
            "3     0.463323  \n",
            "4     0.463323  \n",
            "...        ...  \n",
            "3759  1.017837  \n",
            "3760  2.126866  \n",
            "3761  0.463323  \n",
            "3762  1.017837  \n",
            "3763  2.126866  \n",
            "\n",
            "[3764 rows x 7 columns]\n"
          ]
        }
      ],
      "source": [
        "# llama featureNormalize con los datos cargados\n",
        "X_norm, mu, sigma = featureNormalize(X)\n",
        "\n",
        "print(X)\n",
        "print('Media calculada:', mu)\n",
        "print('Desviación estandar calculada:', sigma)\n",
        "print(X_norm)"
      ]
    },
    {
      "cell_type": "code",
      "execution_count": 38,
      "metadata": {
        "id": "eeiiRegspQjq"
      },
      "outputs": [],
      "source": [
        "# Añade el termino de interseccion a X\n",
        "# (Columna de unos para X0)\n",
        "X = np.concatenate([np.ones((m, 1)), X_norm], axis=1)"
      ]
    },
    {
      "cell_type": "code",
      "execution_count": 39,
      "metadata": {
        "colab": {
          "base_uri": "https://localhost:8080/"
        },
        "id": "5My1qSyKpTWj",
        "outputId": "a6b33d3f-5afb-4d19-ae64-db92f16aca41"
      },
      "outputs": [
        {
          "name": "stdout",
          "output_type": "stream",
          "text": [
            "[[ 1.          1.40316616  0.20763745 ... -0.06711786 -0.15174363\n",
            "  -0.09119138]\n",
            " [ 1.          0.7822338   0.20763745 ...  1.80700403 -0.15174363\n",
            "  -3.97279142]\n",
            " [ 1.          1.6233149  -1.63563466 ...  1.43217965 -0.15174363\n",
            "  -0.09119138]\n",
            " ...\n",
            " [ 1.          0.94480518  0.77479811 ...  0.30770652  4.59003435\n",
            "   0.46332291]\n",
            " [ 1.          0.94593415  0.77479811 ...  1.43217965  5.25463001\n",
            "   1.0178372 ]\n",
            " [ 1.          1.48332288  0.91658827 ... -0.44194224 58.61176682\n",
            "   2.12686579]]\n"
          ]
        }
      ],
      "source": [
        "print(X)"
      ]
    },
    {
      "cell_type": "code",
      "execution_count": 40,
      "metadata": {
        "id": "PJXvxcoEpXyJ"
      },
      "outputs": [],
      "source": [
        "def computeCostMulti(X, y, theta):\n",
        "    # Inicializa algunos valores utiles\n",
        "    m = y.shape[0] # numero de ejemplos de entrenamiento\n",
        "\n",
        "    J = 0\n",
        "\n",
        "    h = np.dot(X, theta)\n",
        "\n",
        "    J = (1/(2 * m)) * np.sum(np.square(np.dot(X, theta) - y))\n",
        "\n",
        "    return J"
      ]
    },
    {
      "cell_type": "code",
      "execution_count": 41,
      "metadata": {
        "id": "nJ06I5dHpe1A"
      },
      "outputs": [],
      "source": [
        "def gradientDescentMulti(X, y, theta, alpha, num_iters):\n",
        "\n",
        "    # Inicializa algunos valores\n",
        "    m = y.shape[0] # numero de ejemplos de entrenamiento\n",
        "\n",
        "    # realiza una copia de theta, el cual será acutalizada por el descenso por el gradiente\n",
        "    theta = theta.copy()\n",
        "\n",
        "    J_history = []\n",
        "\n",
        "    for i in range(num_iters):\n",
        "        theta = theta - (alpha / m) * (np.dot(X, theta) - y).dot(X)\n",
        "        J_history.append(computeCostMulti(X, y, theta))\n",
        "\n",
        "    return theta, J_history"
      ]
    },
    {
      "cell_type": "code",
      "execution_count": 42,
      "metadata": {
        "colab": {
          "base_uri": "https://localhost:8080/",
          "height": 501
        },
        "id": "c4C7wZEfpiCB",
        "outputId": "3a8bd024-d8d7-4270-be25-f5acf6367202"
      },
      "outputs": [
        {
          "name": "stdout",
          "output_type": "stream",
          "text": [
            "theta calculado por el descenso por el gradiente: [20.48172734 -1.19072556 -1.31084315 -0.1627607  -1.14523078 12.30828052\n",
            " -0.29310878 -8.39342337]\n",
            "El valor predecido es (usando el descenso por el gradiente): 24.1946\n"
          ]
        },
        {
          "data": {
            "image/png": "[encoded data removed]",
            "text/plain": [
              "<Figure size 640x480 with 1 Axes>"
            ]
          },
          "metadata": {},
          "output_type": "display_data"
        }
      ],
      "source": [
        "# Elegir algun valor para alpha (probar varias alternativas)\n",
        "alpha = 0.001\n",
        "num_iters = 5000\n",
        "\n",
        "# inicializa theta y ejecuta el descenso por el gradiente\n",
        "theta = np.zeros(8)\n",
        "theta, J_history = gradientDescentMulti(X, y, theta, alpha, num_iters)\n",
        "\n",
        "# Grafica la convergencia del costo\n",
        "pyplot.plot(np.arange(len(J_history)), J_history, lw=2)\n",
        "pyplot.xlabel('Numero de iteraciones')\n",
        "pyplot.ylabel('Costo J')\n",
        "\n",
        "# Muestra los resultados del descenso por el gradiente\n",
        "print('theta calculado por el descenso por el gradiente: {:s}'.format(str(theta)))\n",
        "\n",
        "# Estimar el precio para un vino con distintas caracteristicas\n",
        "X_array = [1, 2212, 1, 104, 3.25, 3.8, 25, 17]\n",
        "X_array[1:8] = (X_array[1:8] - mu) / sigma\n",
        "price = np.dot(X_array, theta)   # Se debe cambiar esto\n",
        "\n",
        "print('El valor predecido es (usando el descenso por el gradiente): {:.4f}'.format(price))"
      ]
    }
  ],
  "metadata": {
    "colab": {
      "provenance": []
    },
    "kernelspec": {
      "display_name": "Python 3",
      "name": "python3"
    },
    "language_info": {
      "codemirror_mode": {
        "name": "ipython",
        "version": 3
      },
      "file_extension": ".py",
      "mimetype": "text/x-python",
      "name": "python",
      "nbconvert_exporter": "python",
      "pygments_lexer": "ipython3",
      "version": "3.11.5"
    }
  },
  "nbformat": 4,
  "nbformat_minor": 0
}
